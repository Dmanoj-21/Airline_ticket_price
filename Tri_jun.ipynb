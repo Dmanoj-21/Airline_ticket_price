{
  "nbformat": 4,
  "nbformat_minor": 0,
  "metadata": {
    "colab": {
      "name": "Tri_jun.ipynb",
      "provenance": [],
      "collapsed_sections": [],
      "authorship_tag": "ABX9TyPDwR4y9QrZEix2NMXlYqHB",
      "include_colab_link": true
    },
    "kernelspec": {
      "name": "python3",
      "display_name": "Python 3"
    },
    "language_info": {
      "name": "python"
    }
  },
  "cells": [
    {
      "cell_type": "markdown",
      "metadata": {
        "id": "view-in-github",
        "colab_type": "text"
      },
      "source": [
        "<a href=\"https://colab.research.google.com/github/dmanojprabakar/Airline_ticket_price/blob/master/Tri_jun.ipynb\" target=\"_parent\"><img src=\"https://colab.research.google.com/assets/colab-badge.svg\" alt=\"Open In Colab\"/></a>"
      ]
    },
    {
      "cell_type": "code",
      "execution_count": 1,
      "metadata": {
        "colab": {
          "base_uri": "https://localhost:8080/"
        },
        "id": "GbvWqp1enWnx",
        "outputId": "71d54894-583f-4886-9727-19ce583daf31"
      },
      "outputs": [
        {
          "output_type": "stream",
          "name": "stderr",
          "text": [
            "YOLOv5 🚀 v6.1-236-gdcf8073 Python-3.7.13 torch-1.11.0+cu113 CPU\n"
          ]
        },
        {
          "output_type": "stream",
          "name": "stdout",
          "text": [
            "Setup complete ✅ (2 CPUs, 12.7 GB RAM, 38.4/107.7 GB disk)\n"
          ]
        }
      ],
      "source": [
        "!git clone https://github.com/ultralytics/yolov5  # clone\n",
        "%cd yolov5\n",
        "%pip install -qr requirements.txt  # install\n",
        "\n",
        "import torch\n",
        "import utils\n",
        "display = utils.notebook_init()  # checks"
      ]
    },
    {
      "cell_type": "code",
      "source": [
        "pip install image_slicer"
      ],
      "metadata": {
        "colab": {
          "base_uri": "https://localhost:8080/",
          "height": 367
        },
        "id": "uPukGzNGw2yc",
        "outputId": "c7b3e805-656f-461d-a088-412d4475864a"
      },
      "execution_count": 11,
      "outputs": [
        {
          "output_type": "stream",
          "name": "stdout",
          "text": [
            "Looking in indexes: https://pypi.org/simple, https://us-python.pkg.dev/colab-wheels/public/simple/\n",
            "Collecting image_slicer\n",
            "  Downloading image_slicer-2.1.1-py2.py3-none-any.whl (8.3 kB)\n",
            "Collecting Pillow==7.2.0\n",
            "  Downloading Pillow-7.2.0-cp37-cp37m-manylinux1_x86_64.whl (2.2 MB)\n",
            "\u001b[K     |████████████████████████████████| 2.2 MB 5.1 MB/s \n",
            "\u001b[?25hInstalling collected packages: Pillow, image-slicer\n",
            "  Attempting uninstall: Pillow\n",
            "    Found existing installation: Pillow 7.1.2\n",
            "    Uninstalling Pillow-7.1.2:\n",
            "      Successfully uninstalled Pillow-7.1.2\n",
            "\u001b[31mERROR: pip's dependency resolver does not currently take into account all the packages that are installed. This behaviour is the source of the following dependency conflicts.\n",
            "albumentations 0.1.12 requires imgaug<0.2.7,>=0.2.5, but you have imgaug 0.2.9 which is incompatible.\u001b[0m\n",
            "Successfully installed Pillow-7.2.0 image-slicer-2.1.1\n"
          ]
        },
        {
          "output_type": "display_data",
          "data": {
            "application/vnd.colab-display-data+json": {
              "pip_warning": {
                "packages": [
                  "PIL"
                ]
              }
            }
          },
          "metadata": {}
        }
      ]
    },
    {
      "cell_type": "code",
      "source": [
        "cd dd0_sam2"
      ],
      "metadata": {
        "colab": {
          "base_uri": "https://localhost:8080/"
        },
        "id": "Gu77EXjPxUkW",
        "outputId": "c48888a4-dc4a-4481-8f8a-7b6aedbf019b"
      },
      "execution_count": 4,
      "outputs": [
        {
          "output_type": "stream",
          "name": "stdout",
          "text": [
            "/content/dd0_sam2\n"
          ]
        }
      ]
    },
    {
      "cell_type": "code",
      "source": [
        "pwd"
      ],
      "metadata": {
        "colab": {
          "base_uri": "https://localhost:8080/",
          "height": 38
        },
        "id": "yg39H5qsxoos",
        "outputId": "ca387618-7de6-498c-ed3f-580acd95e7a4"
      },
      "execution_count": 5,
      "outputs": [
        {
          "output_type": "execute_result",
          "data": {
            "text/plain": [
              "'/content/dd0_sam2'"
            ],
            "application/vnd.google.colaboratory.intrinsic+json": {
              "type": "string"
            }
          },
          "metadata": {},
          "execution_count": 5
        }
      ]
    },
    {
      "cell_type": "code",
      "source": [
        "import os\n",
        "from image_slicer import slice\n",
        "for file in os.listdir(\"/content/dd0_sam2\"): \n",
        "    if file.endswith(\".png\"):\n",
        "        slice(file,4)"
      ],
      "metadata": {
        "id": "e5t3_MjixAST"
      },
      "execution_count": 6,
      "outputs": []
    },
    {
      "cell_type": "code",
      "source": [
        "cd .."
      ],
      "metadata": {
        "colab": {
          "base_uri": "https://localhost:8080/"
        },
        "id": "td-CTurrpSTo",
        "outputId": "1cb83c36-a7c5-4c22-fbe5-431eba208be7"
      },
      "execution_count": 5,
      "outputs": [
        {
          "output_type": "stream",
          "name": "stdout",
          "text": [
            "/content\n"
          ]
        }
      ]
    },
    {
      "cell_type": "code",
      "source": [
        "!unzip dd0_sam.zip"
      ],
      "metadata": {
        "colab": {
          "base_uri": "https://localhost:8080/"
        },
        "id": "NGdj0_NrpbHh",
        "outputId": "b293049d-5ee0-4c68-a067-5d5d26f884f0"
      },
      "execution_count": 7,
      "outputs": [
        {
          "output_type": "stream",
          "name": "stdout",
          "text": [
            "Archive:  dd0_sam.zip\n",
            "  inflating: dd0_sam/DD0.0002_01_01.png  \n",
            "  inflating: dd0_sam/DD0.0002_01_02.png  \n",
            "  inflating: dd0_sam/DD0.0002_02_01.png  \n",
            "  inflating: dd0_sam/DD0.0002_02_02.png  \n",
            "  inflating: dd0_sam/DD0.0003_01_01.png  \n",
            "  inflating: dd0_sam/DD0.0003_01_02.png  \n",
            "  inflating: dd0_sam/DD0.0003_02_01.png  \n",
            "  inflating: dd0_sam/DD0.0003_02_02.png  \n",
            "  inflating: dd0_sam/DD0.0004_01_01.png  \n",
            "  inflating: dd0_sam/DD0.0004_01_02.png  \n",
            "  inflating: dd0_sam/DD0.0004_02_01.png  \n",
            "  inflating: dd0_sam/DD0.0004_02_02.png  \n",
            "  inflating: dd0_sam/DD0.0005_01_01.png  \n",
            "  inflating: dd0_sam/DD0.0005_01_02.png  \n",
            "  inflating: dd0_sam/DD0.0005_02_01.png  \n",
            "  inflating: dd0_sam/DD0.0005_02_02.png  \n"
          ]
        }
      ]
    },
    {
      "cell_type": "code",
      "source": [
        "cd .."
      ],
      "metadata": {
        "colab": {
          "base_uri": "https://localhost:8080/"
        },
        "id": "71q_x0eVyOB3",
        "outputId": "328dcb23-a7f6-4939-8a70-6346e0447ff6"
      },
      "execution_count": 8,
      "outputs": [
        {
          "output_type": "stream",
          "name": "stdout",
          "text": [
            "/content\n"
          ]
        }
      ]
    },
    {
      "cell_type": "code",
      "source": [
        "!python yolov5/detect.py --weights best.pt --img 4032 --conf 0.4 --iou 0.2 --source dd0_sam/DD0.0002_01_01.png --hide-labels --line-thickness 1"
      ],
      "metadata": {
        "colab": {
          "base_uri": "https://localhost:8080/"
        },
        "id": "dQ13wmIao0dW",
        "outputId": "32eda453-3bcb-4719-dc0c-e52775d9e5a7"
      },
      "execution_count": 16,
      "outputs": [
        {
          "output_type": "stream",
          "name": "stdout",
          "text": [
            "\u001b[34m\u001b[1mdetect: \u001b[0mweights=['best.pt'], source=dd0_sam/DD0.0002_01_01.png, data=yolov5/data/coco128.yaml, imgsz=[4032, 4032], conf_thres=0.4, iou_thres=0.2, max_det=1000, device=, view_img=False, save_txt=False, save_conf=False, save_crop=False, nosave=False, classes=None, agnostic_nms=False, augment=False, visualize=False, update=False, project=yolov5/runs/detect, name=exp, exist_ok=False, line_thickness=1, hide_labels=True, hide_conf=False, half=False, dnn=False\n",
            "YOLOv5 🚀 v6.1-236-gdcf8073 Python-3.7.13 torch-1.11.0+cu113 CPU\n",
            "\n",
            "Fusing layers... \n",
            "Model summary: 213 layers, 7012822 parameters, 0 gradients, 15.8 GFLOPs\n",
            "image 1/1 /content/dd0_sam/DD0.0002_01_01.png: 4032x4032 3690 tri_juns, Done. (14.765s)\n",
            "Speed: 165.4ms pre-process, 14765.4ms inference, 499.8ms NMS per image at shape (1, 3, 4032, 4032)\n",
            "Results saved to \u001b[1myolov5/runs/detect/exp10\u001b[0m\n"
          ]
        }
      ]
    },
    {
      "cell_type": "code",
      "source": [
        "txt='image 1/1 /content/dd0_sam/DD0.0002_01_01.png: 4032x4032 3690 tri_juns, Done. (14.765s)Speed: 165.4ms pre-process, 14765.4ms inference, 499.8ms NMS per image at shape (1, 3, 4032, 4032)Results saved to yolov5/runs/detect/exp10image 1/1 /content/dd0_sam/DD0.0002_01_01.png: 4032x4032 3690 567 tri_juns, Done. (14.765s)'"
      ],
      "metadata": {
        "id": "d-5o9p_t-aQL"
      },
      "execution_count": 51,
      "outputs": []
    },
    {
      "cell_type": "code",
      "source": [
        "import re"
      ],
      "metadata": {
        "id": "0WfaSIab-eOX"
      },
      "execution_count": 17,
      "outputs": []
    },
    {
      "cell_type": "code",
      "source": [
        "l=re.findall(r'\\b\\d{3,4}\\b', txt) \n",
        "#for i in range(0, len(l)):\n",
        "    #l[i] = int(l[i])\n",
        "l"
      ],
      "metadata": {
        "colab": {
          "base_uri": "https://localhost:8080/"
        },
        "id": "zlVNy07Q_C0l",
        "outputId": "0fc4d8a5-0cbf-4fa3-9ff6-48e9a8383cca"
      },
      "execution_count": 56,
      "outputs": [
        {
          "output_type": "execute_result",
          "data": {
            "text/plain": [
              "['3690', '165', '499', '4032', '4032', '3690', '567']"
            ]
          },
          "metadata": {},
          "execution_count": 56
        }
      ]
    },
    {
      "cell_type": "code",
      "source": [
        "import csv\n",
        "with open('GFG', 'w') as f:\n",
        "      \n",
        "    # using csv.writer method from CSV package\n",
        "    write = csv.writer(f)\n",
        "      \n",
        "    write.writerow('count')\n",
        "    write.writerows(l)"
      ],
      "metadata": {
        "id": "NejjcEkVFFc9"
      },
      "execution_count": 57,
      "outputs": []
    },
    {
      "cell_type": "code",
      "source": [
        "l[0]+l[1]"
      ],
      "metadata": {
        "colab": {
          "base_uri": "https://localhost:8080/"
        },
        "id": "Jbe2Kp70CGLM",
        "outputId": "4b3dc438-4634-4080-e1a8-e066c3d7410e"
      },
      "execution_count": 49,
      "outputs": [
        {
          "output_type": "execute_result",
          "data": {
            "text/plain": [
              "4257"
            ]
          },
          "metadata": {},
          "execution_count": 49
        }
      ]
    },
    {
      "cell_type": "code",
      "source": [
        "h=[]\n",
        "i=0\n",
        "while i ==2:\n",
        "    e=l[0]+l[1]\n",
        "    h.append(e)\n",
        "    #l=l[2:]\n",
        "    i+=1\n",
        "print(h)"
      ],
      "metadata": {
        "id": "fF6_yOYnAFZz"
      },
      "execution_count": 47,
      "outputs": []
    }
  ]
}