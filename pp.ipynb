{
  "nbformat": 4,
  "nbformat_minor": 0,
  "metadata": {
    "colab": {
      "name": "YOLOv5 Tutorial",
      "provenance": [],
      "collapsed_sections": [],
      "include_colab_link": true
    },
    "kernelspec": {
      "name": "python3",
      "display_name": "Python 3"
    },
    "accelerator": "GPU",
    "widgets": {
      "application/vnd.jupyter.widget-state+json": {
        "eb95db7cae194218b3fcefb439b6352f": {
          "model_module": "@jupyter-widgets/controls",
          "model_name": "HBoxModel",
          "model_module_version": "1.5.0",
          "state": {
            "_view_name": "HBoxView",
            "_dom_classes": [],
            "_model_name": "HBoxModel",
            "_view_module": "@jupyter-widgets/controls",
            "_model_module_version": "1.5.0",
            "_view_count": null,
            "_view_module_version": "1.5.0",
            "box_style": "",
            "layout": "IPY_MODEL_769ecde6f2e64bacb596ce972f8d3d2d",
            "_model_module": "@jupyter-widgets/controls",
            "children": [
              "IPY_MODEL_384a001876054c93b0af45cd1e960bfe",
              "IPY_MODEL_dded0aeae74440f7ba2ffa0beb8dd612",
              "IPY_MODEL_5296d28be75740b2892ae421bbec3657"
            ]
          }
        },
        "769ecde6f2e64bacb596ce972f8d3d2d": {
          "model_module": "@jupyter-widgets/base",
          "model_name": "LayoutModel",
          "model_module_version": "1.2.0",
          "state": {
            "_view_name": "LayoutView",
            "grid_template_rows": null,
            "right": null,
            "justify_content": null,
            "_view_module": "@jupyter-widgets/base",
            "overflow": null,
            "_model_module_version": "1.2.0",
            "_view_count": null,
            "flex_flow": null,
            "width": null,
            "min_width": null,
            "border": null,
            "align_items": null,
            "bottom": null,
            "_model_module": "@jupyter-widgets/base",
            "top": null,
            "grid_column": null,
            "overflow_y": null,
            "overflow_x": null,
            "grid_auto_flow": null,
            "grid_area": null,
            "grid_template_columns": null,
            "flex": null,
            "_model_name": "LayoutModel",
            "justify_items": null,
            "grid_row": null,
            "max_height": null,
            "align_content": null,
            "visibility": null,
            "align_self": null,
            "height": null,
            "min_height": null,
            "padding": null,
            "grid_auto_rows": null,
            "grid_gap": null,
            "max_width": null,
            "order": null,
            "_view_module_version": "1.2.0",
            "grid_template_areas": null,
            "object_position": null,
            "object_fit": null,
            "grid_auto_columns": null,
            "margin": null,
            "display": null,
            "left": null
          }
        },
        "384a001876054c93b0af45cd1e960bfe": {
          "model_module": "@jupyter-widgets/controls",
          "model_name": "HTMLModel",
          "model_module_version": "1.5.0",
          "state": {
            "_view_name": "HTMLView",
            "style": "IPY_MODEL_9f09facb2a6c4a7096810d327c8b551c",
            "_dom_classes": [],
            "description": "",
            "_model_name": "HTMLModel",
            "placeholder": "​",
            "_view_module": "@jupyter-widgets/controls",
            "_model_module_version": "1.5.0",
            "value": "100%",
            "_view_count": null,
            "_view_module_version": "1.5.0",
            "description_tooltip": null,
            "_model_module": "@jupyter-widgets/controls",
            "layout": "IPY_MODEL_25621cff5d16448cb7260e839fd0f543"
          }
        },
        "dded0aeae74440f7ba2ffa0beb8dd612": {
          "model_module": "@jupyter-widgets/controls",
          "model_name": "FloatProgressModel",
          "model_module_version": "1.5.0",
          "state": {
            "_view_name": "ProgressView",
            "style": "IPY_MODEL_0ce7164fc0c74bb9a2b5c7037375a727",
            "_dom_classes": [],
            "description": "",
            "_model_name": "FloatProgressModel",
            "bar_style": "success",
            "max": 818322941,
            "_view_module": "@jupyter-widgets/controls",
            "_model_module_version": "1.5.0",
            "value": 818322941,
            "_view_count": null,
            "_view_module_version": "1.5.0",
            "orientation": "horizontal",
            "min": 0,
            "description_tooltip": null,
            "_model_module": "@jupyter-widgets/controls",
            "layout": "IPY_MODEL_c4c4593c10904cb5b8a5724d60c7e181"
          }
        },
        "5296d28be75740b2892ae421bbec3657": {
          "model_module": "@jupyter-widgets/controls",
          "model_name": "HTMLModel",
          "model_module_version": "1.5.0",
          "state": {
            "_view_name": "HTMLView",
            "style": "IPY_MODEL_473371611126476c88d5d42ec7031ed6",
            "_dom_classes": [],
            "description": "",
            "_model_name": "HTMLModel",
            "placeholder": "​",
            "_view_module": "@jupyter-widgets/controls",
            "_model_module_version": "1.5.0",
            "value": " 780M/780M [00:11&lt;00:00, 91.9MB/s]",
            "_view_count": null,
            "_view_module_version": "1.5.0",
            "description_tooltip": null,
            "_model_module": "@jupyter-widgets/controls",
            "layout": "IPY_MODEL_65efdfd0d26c46e79c8c5ff3b77126cc"
          }
        },
        "9f09facb2a6c4a7096810d327c8b551c": {
          "model_module": "@jupyter-widgets/controls",
          "model_name": "DescriptionStyleModel",
          "model_module_version": "1.5.0",
          "state": {
            "_view_name": "StyleView",
            "_model_name": "DescriptionStyleModel",
            "description_width": "",
            "_view_module": "@jupyter-widgets/base",
            "_model_module_version": "1.5.0",
            "_view_count": null,
            "_view_module_version": "1.2.0",
            "_model_module": "@jupyter-widgets/controls"
          }
        },
        "25621cff5d16448cb7260e839fd0f543": {
          "model_module": "@jupyter-widgets/base",
          "model_name": "LayoutModel",
          "model_module_version": "1.2.0",
          "state": {
            "_view_name": "LayoutView",
            "grid_template_rows": null,
            "right": null,
            "justify_content": null,
            "_view_module": "@jupyter-widgets/base",
            "overflow": null,
            "_model_module_version": "1.2.0",
            "_view_count": null,
            "flex_flow": null,
            "width": null,
            "min_width": null,
            "border": null,
            "align_items": null,
            "bottom": null,
            "_model_module": "@jupyter-widgets/base",
            "top": null,
            "grid_column": null,
            "overflow_y": null,
            "overflow_x": null,
            "grid_auto_flow": null,
            "grid_area": null,
            "grid_template_columns": null,
            "flex": null,
            "_model_name": "LayoutModel",
            "justify_items": null,
            "grid_row": null,
            "max_height": null,
            "align_content": null,
            "visibility": null,
            "align_self": null,
            "height": null,
            "min_height": null,
            "padding": null,
            "grid_auto_rows": null,
            "grid_gap": null,
            "max_width": null,
            "order": null,
            "_view_module_version": "1.2.0",
            "grid_template_areas": null,
            "object_position": null,
            "object_fit": null,
            "grid_auto_columns": null,
            "margin": null,
            "display": null,
            "left": null
          }
        },
        "0ce7164fc0c74bb9a2b5c7037375a727": {
          "model_module": "@jupyter-widgets/controls",
          "model_name": "ProgressStyleModel",
          "model_module_version": "1.5.0",
          "state": {
            "_view_name": "StyleView",
            "_model_name": "ProgressStyleModel",
            "description_width": "",
            "_view_module": "@jupyter-widgets/base",
            "_model_module_version": "1.5.0",
            "_view_count": null,
            "_view_module_version": "1.2.0",
            "bar_color": null,
            "_model_module": "@jupyter-widgets/controls"
          }
        },
        "c4c4593c10904cb5b8a5724d60c7e181": {
          "model_module": "@jupyter-widgets/base",
          "model_name": "LayoutModel",
          "model_module_version": "1.2.0",
          "state": {
            "_view_name": "LayoutView",
            "grid_template_rows": null,
            "right": null,
            "justify_content": null,
            "_view_module": "@jupyter-widgets/base",
            "overflow": null,
            "_model_module_version": "1.2.0",
            "_view_count": null,
            "flex_flow": null,
            "width": null,
            "min_width": null,
            "border": null,
            "align_items": null,
            "bottom": null,
            "_model_module": "@jupyter-widgets/base",
            "top": null,
            "grid_column": null,
            "overflow_y": null,
            "overflow_x": null,
            "grid_auto_flow": null,
            "grid_area": null,
            "grid_template_columns": null,
            "flex": null,
            "_model_name": "LayoutModel",
            "justify_items": null,
            "grid_row": null,
            "max_height": null,
            "align_content": null,
            "visibility": null,
            "align_self": null,
            "height": null,
            "min_height": null,
            "padding": null,
            "grid_auto_rows": null,
            "grid_gap": null,
            "max_width": null,
            "order": null,
            "_view_module_version": "1.2.0",
            "grid_template_areas": null,
            "object_position": null,
            "object_fit": null,
            "grid_auto_columns": null,
            "margin": null,
            "display": null,
            "left": null
          }
        },
        "473371611126476c88d5d42ec7031ed6": {
          "model_module": "@jupyter-widgets/controls",
          "model_name": "DescriptionStyleModel",
          "model_module_version": "1.5.0",
          "state": {
            "_view_name": "StyleView",
            "_model_name": "DescriptionStyleModel",
            "description_width": "",
            "_view_module": "@jupyter-widgets/base",
            "_model_module_version": "1.5.0",
            "_view_count": null,
            "_view_module_version": "1.2.0",
            "_model_module": "@jupyter-widgets/controls"
          }
        },
        "65efdfd0d26c46e79c8c5ff3b77126cc": {
          "model_module": "@jupyter-widgets/base",
          "model_name": "LayoutModel",
          "model_module_version": "1.2.0",
          "state": {
            "_view_name": "LayoutView",
            "grid_template_rows": null,
            "right": null,
            "justify_content": null,
            "_view_module": "@jupyter-widgets/base",
            "overflow": null,
            "_model_module_version": "1.2.0",
            "_view_count": null,
            "flex_flow": null,
            "width": null,
            "min_width": null,
            "border": null,
            "align_items": null,
            "bottom": null,
            "_model_module": "@jupyter-widgets/base",
            "top": null,
            "grid_column": null,
            "overflow_y": null,
            "overflow_x": null,
            "grid_auto_flow": null,
            "grid_area": null,
            "grid_template_columns": null,
            "flex": null,
            "_model_name": "LayoutModel",
            "justify_items": null,
            "grid_row": null,
            "max_height": null,
            "align_content": null,
            "visibility": null,
            "align_self": null,
            "height": null,
            "min_height": null,
            "padding": null,
            "grid_auto_rows": null,
            "grid_gap": null,
            "max_width": null,
            "order": null,
            "_view_module_version": "1.2.0",
            "grid_template_areas": null,
            "object_position": null,
            "object_fit": null,
            "grid_auto_columns": null,
            "margin": null,
            "display": null,
            "left": null
          }
        }
      }
    }
  },
  "cells": [
    {
      "cell_type": "markdown",
      "metadata": {
        "id": "view-in-github",
        "colab_type": "text"
      },
      "source": [
        "<a href=\"https://colab.research.google.com/github/dmanojprabakar/Airline_ticket_price/blob/master/pp.ipynb\" target=\"_parent\"><img src=\"https://colab.research.google.com/assets/colab-badge.svg\" alt=\"Open In Colab\"/></a>"
      ]
    },
    {
      "cell_type": "markdown",
      "metadata": {
        "id": "t6MPjfT5NrKQ"
      },
      "source": [
        "<a align=\"left\" href=\"https://ultralytics.com/yolov5\" target=\"_blank\">\n",
        "<img width=\"1024\", src=\"https://user-images.githubusercontent.com/26833433/125273437-35b3fc00-e30d-11eb-9079-46f313325424.png\"></a>\n",
        "\n",
        "This is the **official YOLOv5 🚀 notebook** by **Ultralytics**, and is freely available for redistribution under the [GPL-3.0 license](https://choosealicense.com/licenses/gpl-3.0/). \n",
        "For more information please visit https://github.com/ultralytics/yolov5 and https://ultralytics.com. Thank you!"
      ]
    },
    {
      "cell_type": "markdown",
      "metadata": {
        "id": "7mGmQbAO5pQb"
      },
      "source": [
        "# Setup\n",
        "\n",
        "Clone repo, install dependencies and check PyTorch and GPU."
      ]
    },
    {
      "cell_type": "code",
      "metadata": {
        "id": "wbvMlHd_QwMG",
        "colab": {
          "base_uri": "https://localhost:8080/"
        },
        "outputId": "88d6a96a-7b41-4ded-b82c-dfe1ec46baf1"
      },
      "source": [
        "!git clone https://github.com/ultralytics/yolov5  # clone\n",
        "%cd yolov5\n",
        "%pip install -qr requirements.txt  # install\n",
        "\n",
        "import torch\n",
        "from yolov5 import utils\n",
        "display = utils.notebook_init()  # checks"
      ],
      "execution_count": 1,
      "outputs": [
        {
          "output_type": "stream",
          "name": "stderr",
          "text": [
            "YOLOv5 🚀 v6.1-74-gcf4f3c3 torch 1.10.0+cu111 CUDA:0 (Tesla K80, 11441MiB)\n"
          ]
        },
        {
          "output_type": "stream",
          "name": "stdout",
          "text": [
            "Setup complete ✅ (2 CPUs, 12.7 GB RAM, 39.9/78.2 GB disk)\n"
          ]
        }
      ]
    },
    {
      "cell_type": "code",
      "source": [
        "%cd .."
      ],
      "metadata": {
        "id": "33r9KT19TlQH",
        "outputId": "4b0fb534-57ed-4018-bce5-5c9ae9da0cc8",
        "colab": {
          "base_uri": "https://localhost:8080/"
        }
      },
      "execution_count": 5,
      "outputs": [
        {
          "output_type": "stream",
          "name": "stdout",
          "text": [
            "/content\n"
          ]
        }
      ]
    },
    {
      "cell_type": "code",
      "source": [
        "ls"
      ],
      "metadata": {
        "id": "bkAmQ8ZFTwSb",
        "outputId": "f452e0b9-18fe-49bd-a80d-417b378ff676",
        "colab": {
          "base_uri": "https://localhost:8080/"
        }
      },
      "execution_count": 6,
      "outputs": [
        {
          "output_type": "stream",
          "name": "stdout",
          "text": [
            "train_data.zip  \u001b[0m\u001b[01;34myolov5\u001b[0m/\n"
          ]
        }
      ]
    },
    {
      "cell_type": "code",
      "source": [
        "!unzip train_data.zip"
      ],
      "metadata": {
        "id": "k-lbPx91T1yL",
        "outputId": "98075594-00c4-4442-90e1-6bae7946dfad",
        "colab": {
          "base_uri": "https://localhost:8080/"
        }
      },
      "execution_count": 8,
      "outputs": [
        {
          "output_type": "stream",
          "name": "stdout",
          "text": [
            "Archive:  train_data.zip\n",
            "   creating: train_data/images/\n",
            "   creating: train_data/images/train/\n",
            "  inflating: train_data/images/train/f35bb11.jpg  \n",
            "  inflating: train_data/images/train/f35bb38.jpg  \n",
            "  inflating: train_data/images/train/f35cb30.jpg  \n",
            "  inflating: train_data/images/train/f35cb70.jpg  \n",
            "  inflating: train_data/images/train/f35db21.jpg  \n",
            "  inflating: train_data/images/train/f35db23.jpg  \n",
            "  inflating: train_data/images/train/f45eb67.jpg  \n",
            "  inflating: train_data/images/train/f55bc01.jpg  \n",
            "  inflating: train_data/images/train/f55bc12.jpg  \n",
            "  inflating: train_data/images/train/f55bc42.jpg  \n",
            "  inflating: train_data/images/train/f55bc45.jpg  \n",
            "  inflating: train_data/images/train/f55cc41.jpg  \n",
            "   creating: train_data/images/val/\n",
            "  inflating: train_data/images/val/f55fc35.jpg  \n",
            "  inflating: train_data/images/val/f55gc19.jpg  \n",
            "  inflating: train_data/images/val/f55gc22.jpg  \n",
            "  inflating: train_data/images/val/f65bc19.jpg  \n",
            "  inflating: train_data/images/val/r55cc01.jpg  \n",
            "   creating: train_data/labels/\n",
            "   creating: train_data/labels/train/\n",
            "  inflating: train_data/labels/train/f35bb11.txt  \n",
            "  inflating: train_data/labels/train/f35bb38.txt  \n",
            "  inflating: train_data/labels/train/f35cb30.txt  \n",
            "  inflating: train_data/labels/train/f35cb70.txt  \n",
            "  inflating: train_data/labels/train/f35db21.txt  \n",
            "  inflating: train_data/labels/train/f35db23.txt  \n",
            "  inflating: train_data/labels/train/f45eb67.txt  \n",
            "  inflating: train_data/labels/train/f55bc01.txt  \n",
            "  inflating: train_data/labels/train/f55bc12.txt  \n",
            "  inflating: train_data/labels/train/f55bc42.txt  \n",
            "  inflating: train_data/labels/train/f55bc45.txt  \n",
            "  inflating: train_data/labels/train/f55cc41.txt  \n",
            "   creating: train_data/labels/val/\n",
            "  inflating: train_data/labels/val/f55fc35.txt  \n",
            "  inflating: train_data/labels/val/f55gc19.txt  \n",
            "  inflating: train_data/labels/val/f55gc22.txt  \n",
            "  inflating: train_data/labels/val/f65bc19.txt  \n",
            "  inflating: train_data/labels/val/r55cc01.txt  \n"
          ]
        }
      ]
    },
    {
      "cell_type": "markdown",
      "metadata": {
        "id": "4JnkELT0cIJg"
      },
      "source": [
        "# 1. Inference\n",
        "\n",
        "`detect.py` runs YOLOv5 inference on a variety of sources, downloading models automatically from the [latest YOLOv5 release](https://github.com/ultralytics/yolov5/releases), and saving results to `runs/detect`. Example inference sources are:\n",
        "\n",
        "```shell\n",
        "python detect.py --source 0  # webcam\n",
        "                          img.jpg  # image \n",
        "                          vid.mp4  # video\n",
        "                          path/  # directory\n",
        "                          path/*.jpg  # glob\n",
        "                          'https://youtu.be/Zgi9g1ksQHc'  # YouTube\n",
        "                          'rtsp://example.com/media.mp4'  # RTSP, RTMP, HTTP stream\n",
        "```"
      ]
    },
    {
      "cell_type": "code",
      "source": [
        "%cd /content/yolov5"
      ],
      "metadata": {
        "id": "EKxpPxfsXDVU",
        "outputId": "00307e7c-8143-49ff-8a9f-4b8bd076e241",
        "colab": {
          "base_uri": "https://localhost:8080/"
        }
      },
      "execution_count": 28,
      "outputs": [
        {
          "output_type": "stream",
          "name": "stdout",
          "text": [
            "/content/yolov5\n"
          ]
        }
      ]
    },
    {
      "cell_type": "code",
      "metadata": {
        "id": "zR9ZbuQCH7FX",
        "colab": {
          "base_uri": "https://localhost:8080/"
        },
        "outputId": "aadd7c68-8140-470b-d10e-eab74b08794a"
      },
      "source": [
        "!python detect.py --weights runs/train/exp/weights/best.pt --img 640 --conf 0.30 --iou 0.65 --source /content/f65cc49.jpg \n"
      ],
      "execution_count": 40,
      "outputs": [
        {
          "output_type": "stream",
          "name": "stdout",
          "text": [
            "\u001b[34m\u001b[1mdetect: \u001b[0mweights=['runs/train/exp/weights/best.pt'], source=/content/f65cc49.jpg, data=data/coco128.yaml, imgsz=[640, 640], conf_thres=0.3, iou_thres=0.65, max_det=1000, device=, view_img=False, save_txt=False, save_conf=False, save_crop=False, nosave=False, classes=None, agnostic_nms=False, augment=False, visualize=False, update=False, project=runs/detect, name=exp, exist_ok=False, line_thickness=3, hide_labels=False, hide_conf=False, half=False, dnn=False\n",
            "YOLOv5 🚀 v6.1-74-gcf4f3c3 torch 1.10.0+cu111 CUDA:0 (Tesla K80, 11441MiB)\n",
            "\n",
            "Fusing layers... \n",
            "Model summary: 213 layers, 7012822 parameters, 0 gradients, 15.8 GFLOPs\n",
            "image 1/1 /content/f65cc49.jpg: 512x640 23 Precipitates, Done. (0.031s)\n",
            "Speed: 0.6ms pre-process, 31.3ms inference, 3.0ms NMS per image at shape (1, 3, 640, 640)\n",
            "Results saved to \u001b[1mruns/detect/exp9\u001b[0m\n"
          ]
        }
      ]
    },
    {
      "cell_type": "code",
      "source": [
        "!python detect.py -h"
      ],
      "metadata": {
        "id": "1MCnf4tnYGzM",
        "outputId": "964c4d92-16b9-4341-acd1-bf75ca97de1b",
        "colab": {
          "base_uri": "https://localhost:8080/"
        }
      },
      "execution_count": 35,
      "outputs": [
        {
          "output_type": "stream",
          "name": "stdout",
          "text": [
            "usage: detect.py [-h] [--weights WEIGHTS [WEIGHTS ...]] [--source SOURCE]\n",
            "                 [--data DATA] [--imgsz IMGSZ [IMGSZ ...]]\n",
            "                 [--conf-thres CONF_THRES] [--iou-thres IOU_THRES]\n",
            "                 [--max-det MAX_DET] [--device DEVICE] [--view-img]\n",
            "                 [--save-txt] [--save-conf] [--save-crop] [--nosave]\n",
            "                 [--classes CLASSES [CLASSES ...]] [--agnostic-nms]\n",
            "                 [--augment] [--visualize] [--update] [--project PROJECT]\n",
            "                 [--name NAME] [--exist-ok] [--line-thickness LINE_THICKNESS]\n",
            "                 [--hide-labels] [--hide-conf] [--half] [--dnn]\n",
            "\n",
            "optional arguments:\n",
            "  -h, --help            show this help message and exit\n",
            "  --weights WEIGHTS [WEIGHTS ...]\n",
            "                        model path(s)\n",
            "  --source SOURCE       file/dir/URL/glob, 0 for webcam\n",
            "  --data DATA           (optional) dataset.yaml path\n",
            "  --imgsz IMGSZ [IMGSZ ...], --img IMGSZ [IMGSZ ...], --img-size IMGSZ [IMGSZ ...]\n",
            "                        inference size h,w\n",
            "  --conf-thres CONF_THRES\n",
            "                        confidence threshold\n",
            "  --iou-thres IOU_THRES\n",
            "                        NMS IoU threshold\n",
            "  --max-det MAX_DET     maximum detections per image\n",
            "  --device DEVICE       cuda device, i.e. 0 or 0,1,2,3 or cpu\n",
            "  --view-img            show results\n",
            "  --save-txt            save results to *.txt\n",
            "  --save-conf           save confidences in --save-txt labels\n",
            "  --save-crop           save cropped prediction boxes\n",
            "  --nosave              do not save images/videos\n",
            "  --classes CLASSES [CLASSES ...]\n",
            "                        filter by class: --classes 0, or --classes 0 2 3\n",
            "  --agnostic-nms        class-agnostic NMS\n",
            "  --augment             augmented inference\n",
            "  --visualize           visualize features\n",
            "  --update              update all models\n",
            "  --project PROJECT     save results to project/name\n",
            "  --name NAME           save results to project/name\n",
            "  --exist-ok            existing project/name ok, do not increment\n",
            "  --line-thickness LINE_THICKNESS\n",
            "                        bounding box thickness (pixels)\n",
            "  --hide-labels         hide labels\n",
            "  --hide-conf           hide confidences\n",
            "  --half                use FP16 half-precision inference\n",
            "  --dnn                 use OpenCV DNN for ONNX inference\n"
          ]
        }
      ]
    },
    {
      "cell_type": "markdown",
      "metadata": {
        "id": "hkAzDWJ7cWTr"
      },
      "source": [
        "&nbsp;&nbsp;&nbsp;&nbsp;&nbsp;&nbsp;&nbsp;&nbsp;\n",
        "<img align=\"left\" src=\"https://user-images.githubusercontent.com/26833433/127574988-6a558aa1-d268-44b9-bf6b-62d4c605cc72.jpg\" width=\"600\">"
      ]
    },
    {
      "cell_type": "markdown",
      "metadata": {
        "id": "0eq1SMWl6Sfn"
      },
      "source": [
        "# 2. Validate\n",
        "Validate a model's accuracy on [COCO](https://cocodataset.org/#home) val or test-dev datasets. Models are downloaded automatically from the [latest YOLOv5 release](https://github.com/ultralytics/yolov5/releases). To show results by class use the `--verbose` flag. Note that `pycocotools` metrics may be ~1% better than the equivalent repo metrics, as is visible below, due to slight differences in mAP computation."
      ]
    },
    {
      "cell_type": "markdown",
      "metadata": {
        "id": "eyTZYGgRjnMc"
      },
      "source": [
        "## COCO val\n",
        "Download [COCO val 2017](https://github.com/ultralytics/yolov5/blob/74b34872fdf41941cddcf243951cdb090fbac17b/data/coco.yaml#L14) dataset (1GB - 5000 images), and test model accuracy."
      ]
    },
    {
      "cell_type": "code",
      "metadata": {
        "id": "WQPtK1QYVaD_",
        "colab": {
          "base_uri": "https://localhost:8080/",
          "height": 48,
          "referenced_widgets": [
            "eb95db7cae194218b3fcefb439b6352f",
            "769ecde6f2e64bacb596ce972f8d3d2d",
            "384a001876054c93b0af45cd1e960bfe",
            "dded0aeae74440f7ba2ffa0beb8dd612",
            "5296d28be75740b2892ae421bbec3657",
            "9f09facb2a6c4a7096810d327c8b551c",
            "25621cff5d16448cb7260e839fd0f543",
            "0ce7164fc0c74bb9a2b5c7037375a727",
            "c4c4593c10904cb5b8a5724d60c7e181",
            "473371611126476c88d5d42ec7031ed6",
            "65efdfd0d26c46e79c8c5ff3b77126cc"
          ]
        },
        "outputId": "bcf9a448-1f9b-4a41-ad49-12f181faf05a"
      },
      "source": [
        "# Download COCO val\n",
        "torch.hub.download_url_to_file('https://ultralytics.com/assets/coco2017val.zip', 'tmp.zip')\n",
        "!unzip -q tmp.zip -d ../datasets && rm tmp.zip"
      ],
      "execution_count": null,
      "outputs": [
        {
          "output_type": "display_data",
          "data": {
            "application/vnd.jupyter.widget-view+json": {
              "model_id": "eb95db7cae194218b3fcefb439b6352f",
              "version_minor": 0,
              "version_major": 2
            },
            "text/plain": [
              "  0%|          | 0.00/780M [00:00<?, ?B/s]"
            ]
          },
          "metadata": {}
        }
      ]
    },
    {
      "cell_type": "code",
      "metadata": {
        "id": "X58w8JLpMnjH",
        "colab": {
          "base_uri": "https://localhost:8080/"
        },
        "outputId": "74f1dfa9-6b6d-4b36-f67e-bbae243869f9"
      },
      "source": [
        "# Run YOLOv5x on COCO val\n",
        "!python val.py --weights yolov5x.pt --data coco.yaml --img 640 --iou 0.65 --half"
      ],
      "execution_count": null,
      "outputs": [
        {
          "output_type": "stream",
          "name": "stdout",
          "text": [
            "\u001b[34m\u001b[1mval: \u001b[0mdata=/content/yolov5/data/coco.yaml, weights=['yolov5x.pt'], batch_size=32, imgsz=640, conf_thres=0.001, iou_thres=0.65, task=val, device=, single_cls=False, augment=False, verbose=False, save_txt=False, save_hybrid=False, save_conf=False, save_json=True, project=runs/val, name=exp, exist_ok=False, half=True\n",
            "YOLOv5 🚀 v6.0-48-g84a8099 torch 1.10.0+cu102 CUDA:0 (Tesla V100-SXM2-16GB, 16160MiB)\n",
            "\n",
            "Downloading https://github.com/ultralytics/yolov5/releases/download/v6.0/yolov5x.pt to yolov5x.pt...\n",
            "100% 166M/166M [00:03<00:00, 54.1MB/s]\n",
            "\n",
            "Fusing layers... \n",
            "Model Summary: 444 layers, 86705005 parameters, 0 gradients\n",
            "\u001b[34m\u001b[1mval: \u001b[0mScanning '../datasets/coco/val2017' images and labels...4952 found, 48 missing, 0 empty, 0 corrupted: 100% 5000/5000 [00:01<00:00, 2636.64it/s]\n",
            "\u001b[34m\u001b[1mval: \u001b[0mNew cache created: ../datasets/coco/val2017.cache\n",
            "               Class     Images     Labels          P          R     mAP@.5 mAP@.5:.95: 100% 157/157 [01:12<00:00,  2.17it/s]\n",
            "                 all       5000      36335      0.729       0.63      0.683      0.496\n",
            "Speed: 0.1ms pre-process, 4.9ms inference, 1.9ms NMS per image at shape (32, 3, 640, 640)\n",
            "\n",
            "Evaluating pycocotools mAP... saving runs/val/exp/yolov5x_predictions.json...\n",
            "loading annotations into memory...\n",
            "Done (t=0.46s)\n",
            "creating index...\n",
            "index created!\n",
            "Loading and preparing results...\n",
            "DONE (t=5.15s)\n",
            "creating index...\n",
            "index created!\n",
            "Running per image evaluation...\n",
            "Evaluate annotation type *bbox*\n",
            "DONE (t=90.39s).\n",
            "Accumulating evaluation results...\n",
            "DONE (t=14.54s).\n",
            " Average Precision  (AP) @[ IoU=0.50:0.95 | area=   all | maxDets=100 ] = 0.507\n",
            " Average Precision  (AP) @[ IoU=0.50      | area=   all | maxDets=100 ] = 0.689\n",
            " Average Precision  (AP) @[ IoU=0.75      | area=   all | maxDets=100 ] = 0.552\n",
            " Average Precision  (AP) @[ IoU=0.50:0.95 | area= small | maxDets=100 ] = 0.345\n",
            " Average Precision  (AP) @[ IoU=0.50:0.95 | area=medium | maxDets=100 ] = 0.559\n",
            " Average Precision  (AP) @[ IoU=0.50:0.95 | area= large | maxDets=100 ] = 0.652\n",
            " Average Recall     (AR) @[ IoU=0.50:0.95 | area=   all | maxDets=  1 ] = 0.381\n",
            " Average Recall     (AR) @[ IoU=0.50:0.95 | area=   all | maxDets= 10 ] = 0.630\n",
            " Average Recall     (AR) @[ IoU=0.50:0.95 | area=   all | maxDets=100 ] = 0.682\n",
            " Average Recall     (AR) @[ IoU=0.50:0.95 | area= small | maxDets=100 ] = 0.526\n",
            " Average Recall     (AR) @[ IoU=0.50:0.95 | area=medium | maxDets=100 ] = 0.732\n",
            " Average Recall     (AR) @[ IoU=0.50:0.95 | area= large | maxDets=100 ] = 0.829\n",
            "Results saved to \u001b[1mruns/val/exp\u001b[0m\n"
          ]
        }
      ]
    },
    {
      "cell_type": "markdown",
      "metadata": {
        "id": "rc_KbFk0juX2"
      },
      "source": [
        "## COCO test\n",
        "Download [COCO test2017](https://github.com/ultralytics/yolov5/blob/74b34872fdf41941cddcf243951cdb090fbac17b/data/coco.yaml#L15) dataset (7GB - 40,000 images), to test model accuracy on test-dev set (**20,000 images, no labels**). Results are saved to a `*.json` file which should be **zipped** and submitted to the evaluation server at https://competitions.codalab.org/competitions/20794."
      ]
    },
    {
      "cell_type": "code",
      "metadata": {
        "id": "V0AJnSeCIHyJ"
      },
      "source": [
        "# Download COCO test-dev2017\n",
        "torch.hub.download_url_to_file('https://ultralytics.com/assets/coco2017labels.zip', 'tmp.zip')\n",
        "!unzip -q tmp.zip -d ../datasets && rm tmp.zip\n",
        "!f=\"test2017.zip\" && curl http://images.cocodataset.org/zips/$f -o $f && unzip -q $f -d ../datasets/coco/images"
      ],
      "execution_count": null,
      "outputs": []
    },
    {
      "cell_type": "code",
      "metadata": {
        "id": "29GJXAP_lPrt"
      },
      "source": [
        "# Run YOLOv5x on COCO test\n",
        "!python val.py --weights yolov5x.pt --data coco.yaml --img 640 --iou 0.65 --half --task test"
      ],
      "execution_count": null,
      "outputs": []
    },
    {
      "cell_type": "markdown",
      "metadata": {
        "id": "ZY2VXXXu74w5"
      },
      "source": [
        "# 3. Train\n",
        "\n",
        "<p align=\"\"><a href=\"https://roboflow.com/?ref=ultralytics\"><img width=\"1000\" src=\"https://uploads-ssl.webflow.com/5f6bc60e665f54545a1e52a5/615627e5824c9c6195abfda9_computer-vision-cycle.png\"/></a></p>\n",
        "Close the active learning loop by sampling images from your inference conditions with the `roboflow` pip package\n",
        "<br><br>\n",
        "\n",
        "Train a YOLOv5s model on the [COCO128](https://www.kaggle.com/ultralytics/coco128) dataset with `--data coco128.yaml`, starting from pretrained `--weights yolov5s.pt`, or from randomly initialized `--weights '' --cfg yolov5s.yaml`.\n",
        "\n",
        "- **Pretrained [Models](https://github.com/ultralytics/yolov5/tree/master/models)** are downloaded\n",
        "automatically from the [latest YOLOv5 release](https://github.com/ultralytics/yolov5/releases)\n",
        "- **[Datasets](https://github.com/ultralytics/yolov5/tree/master/data)** available for autodownload include: [COCO](https://github.com/ultralytics/yolov5/blob/master/data/coco.yaml), [COCO128](https://github.com/ultralytics/yolov5/blob/master/data/coco128.yaml), [VOC](https://github.com/ultralytics/yolov5/blob/master/data/VOC.yaml), [Argoverse](https://github.com/ultralytics/yolov5/blob/master/data/Argoverse.yaml), [VisDrone](https://github.com/ultralytics/yolov5/blob/master/data/VisDrone.yaml), [GlobalWheat](https://github.com/ultralytics/yolov5/blob/master/data/GlobalWheat2020.yaml), [xView](https://github.com/ultralytics/yolov5/blob/master/data/xView.yaml), [Objects365](https://github.com/ultralytics/yolov5/blob/master/data/Objects365.yaml), [SKU-110K](https://github.com/ultralytics/yolov5/blob/master/data/SKU-110K.yaml).\n",
        "- **Training Results** are saved to `runs/train/` with incrementing run directories, i.e. `runs/train/exp2`, `runs/train/exp3` etc.\n",
        "<br><br>\n",
        "\n",
        "## Train on Custom Data with Roboflow 🌟 NEW\n",
        "\n",
        "[Roboflow](https://roboflow.com/?ref=ultralytics) enables you to easily **organize, label, and prepare** a high quality dataset with your own custom data. Roboflow also makes it easy to establish an active learning pipeline, collaborate with your team on dataset improvement, and integrate directly into your model building workflow with the `roboflow` pip package.\n",
        "\n",
        "- Custom Training Example: [https://blog.roboflow.com/how-to-train-yolov5-on-a-custom-dataset/](https://blog.roboflow.com/how-to-train-yolov5-on-a-custom-dataset/?ref=ultralytics)\n",
        "- Custom Training Notebook: [![Open In Colab](https://colab.research.google.com/assets/colab-badge.svg)](https://colab.research.google.com/github/roboflow-ai/yolov5-custom-training-tutorial/blob/main/yolov5-custom-training.ipynb)\n",
        "<br>\n",
        "\n",
        "<p align=\"\"><a href=\"https://roboflow.com/?ref=ultralytics\"><img width=\"480\" src=\"https://uploads-ssl.webflow.com/5f6bc60e665f54545a1e52a5/6152a275ad4b4ac20cd2e21a_roboflow-annotate.gif\"/></a></p>Label images lightning fast (including with model-assisted labeling)"
      ]
    },
    {
      "cell_type": "code",
      "metadata": {
        "id": "bOy5KI2ncnWd"
      },
      "source": [
        "# Tensorboard  (optional)\n",
        "%load_ext tensorboard\n",
        "%tensorboard --logdir runs/train"
      ],
      "execution_count": null,
      "outputs": []
    },
    {
      "cell_type": "code",
      "metadata": {
        "id": "2fLAV42oNb7M"
      },
      "source": [
        "# Weights & Biases  (optional)\n",
        "%pip install -q wandb\n",
        "import wandb\n",
        "wandb.login()"
      ],
      "execution_count": null,
      "outputs": []
    },
    {
      "cell_type": "code",
      "source": [
        "%cd .."
      ],
      "metadata": {
        "id": "P1P9yhMYUKWS",
        "outputId": "2f1141d1-a9c3-4ed9-9f34-8679fb7a01f8",
        "colab": {
          "base_uri": "https://localhost:8080/"
        }
      },
      "execution_count": 20,
      "outputs": [
        {
          "output_type": "stream",
          "name": "stdout",
          "text": [
            "/content/yolov5\n"
          ]
        }
      ]
    },
    {
      "cell_type": "code",
      "source": [
        "ls"
      ],
      "metadata": {
        "id": "Llmg1s_gUahB",
        "outputId": "7d8e63da-ff76-4a96-d545-a1f13cd9d5db",
        "colab": {
          "base_uri": "https://localhost:8080/"
        }
      },
      "execution_count": 21,
      "outputs": [
        {
          "output_type": "stream",
          "name": "stdout",
          "text": [
            "CONTRIBUTING.md  Dockerfile  LICENSE    \u001b[0m\u001b[01;32mrequirements.txt\u001b[0m*  tutorial.ipynb\n",
            "\u001b[01;34mdata\u001b[0m/            export.py   \u001b[01;34mmodels\u001b[0m/    setup.cfg          \u001b[01;34mutils\u001b[0m/\n",
            "detect.py        hubconf.py  README.md  train.py           val.py\n"
          ]
        }
      ]
    },
    {
      "cell_type": "code",
      "source": [
        ""
      ],
      "metadata": {
        "id": "JIlA7-JYUcq3"
      },
      "execution_count": null,
      "outputs": []
    },
    {
      "cell_type": "code",
      "metadata": {
        "id": "1NcFxRcFdJ_O",
        "colab": {
          "base_uri": "https://localhost:8080/"
        },
        "outputId": "d11ce05b-5e29-4460-e003-1b6800aa2c27"
      },
      "source": [
        "# Train YOLOv5s on COCO128 for 3 epochs\n",
        "!python train.py --img 640 --batch 2 --epochs 50 --data custom.yaml --weights yolov5s.pt --cache"
      ],
      "execution_count": 39,
      "outputs": [
        {
          "output_type": "stream",
          "name": "stdout",
          "text": [
            "\u001b[34m\u001b[1mtrain: \u001b[0mweights=yolov5s.pt, cfg=, data=custom.yaml, hyp=data/hyps/hyp.scratch-low.yaml, epochs=50, batch_size=2, imgsz=640, rect=False, resume=False, nosave=False, noval=False, noautoanchor=False, evolve=None, bucket=, cache=ram, image_weights=False, device=, multi_scale=False, single_cls=False, optimizer=SGD, sync_bn=False, workers=8, project=runs/train, name=exp, exist_ok=False, quad=False, cos_lr=False, label_smoothing=0.0, patience=100, freeze=[0], save_period=-1, local_rank=-1, entity=None, upload_dataset=False, bbox_interval=-1, artifact_alias=latest\n",
            "remote: Enumerating objects: 31, done.\u001b[K\n",
            "remote: Counting objects: 100% (31/31), done.\u001b[K\n",
            "remote: Compressing objects: 100% (16/16), done.\u001b[K\n",
            "remote: Total 31 (delta 19), reused 27 (delta 15), pack-reused 0\u001b[K\n",
            "Unpacking objects: 100% (31/31), done.\n",
            "From https://github.com/ultralytics/yolov5\n",
            "   b4e18e5..ff65061  test/conv_reduction -> origin/test/conv_reduction\n",
            "\u001b[34m\u001b[1mgithub: \u001b[0mup to date with https://github.com/ultralytics/yolov5 ✅\n",
            "YOLOv5 🚀 v6.1-74-gcf4f3c3 torch 1.10.0+cu111 CUDA:0 (Tesla K80, 11441MiB)\n",
            "\n",
            "\u001b[34m\u001b[1mhyperparameters: \u001b[0mlr0=0.01, lrf=0.01, momentum=0.937, weight_decay=0.0005, warmup_epochs=3.0, warmup_momentum=0.8, warmup_bias_lr=0.1, box=0.05, cls=0.5, cls_pw=1.0, obj=1.0, obj_pw=1.0, iou_t=0.2, anchor_t=4.0, fl_gamma=0.0, hsv_h=0.015, hsv_s=0.7, hsv_v=0.4, degrees=0.0, translate=0.1, scale=0.5, shear=0.0, perspective=0.0, flipud=0.0, fliplr=0.5, mosaic=1.0, mixup=0.0, copy_paste=0.0\n",
            "\u001b[34m\u001b[1mWeights & Biases: \u001b[0mrun 'pip install wandb' to automatically track and visualize YOLOv5 🚀 runs (RECOMMENDED)\n",
            "\u001b[34m\u001b[1mTensorBoard: \u001b[0mStart with 'tensorboard --logdir runs/train', view at http://localhost:6006/\n",
            "Overriding model.yaml nc=80 with nc=1\n",
            "\n",
            "                 from  n    params  module                                  arguments                     \n",
            "  0                -1  1      3520  models.common.Conv                      [3, 32, 6, 2, 2]              \n",
            "  1                -1  1     18560  models.common.Conv                      [32, 64, 3, 2]                \n",
            "  2                -1  1     18816  models.common.C3                        [64, 64, 1]                   \n",
            "  3                -1  1     73984  models.common.Conv                      [64, 128, 3, 2]               \n",
            "  4                -1  2    115712  models.common.C3                        [128, 128, 2]                 \n",
            "  5                -1  1    295424  models.common.Conv                      [128, 256, 3, 2]              \n",
            "  6                -1  3    625152  models.common.C3                        [256, 256, 3]                 \n",
            "  7                -1  1   1180672  models.common.Conv                      [256, 512, 3, 2]              \n",
            "  8                -1  1   1182720  models.common.C3                        [512, 512, 1]                 \n",
            "  9                -1  1    656896  models.common.SPPF                      [512, 512, 5]                 \n",
            " 10                -1  1    131584  models.common.Conv                      [512, 256, 1, 1]              \n",
            " 11                -1  1         0  torch.nn.modules.upsampling.Upsample    [None, 2, 'nearest']          \n",
            " 12           [-1, 6]  1         0  models.common.Concat                    [1]                           \n",
            " 13                -1  1    361984  models.common.C3                        [512, 256, 1, False]          \n",
            " 14                -1  1     33024  models.common.Conv                      [256, 128, 1, 1]              \n",
            " 15                -1  1         0  torch.nn.modules.upsampling.Upsample    [None, 2, 'nearest']          \n",
            " 16           [-1, 4]  1         0  models.common.Concat                    [1]                           \n",
            " 17                -1  1     90880  models.common.C3                        [256, 128, 1, False]          \n",
            " 18                -1  1    147712  models.common.Conv                      [128, 128, 3, 2]              \n",
            " 19          [-1, 14]  1         0  models.common.Concat                    [1]                           \n",
            " 20                -1  1    296448  models.common.C3                        [256, 256, 1, False]          \n",
            " 21                -1  1    590336  models.common.Conv                      [256, 256, 3, 2]              \n",
            " 22          [-1, 10]  1         0  models.common.Concat                    [1]                           \n",
            " 23                -1  1   1182720  models.common.C3                        [512, 512, 1, False]          \n",
            " 24      [17, 20, 23]  1     16182  models.yolo.Detect                      [1, [[10, 13, 16, 30, 33, 23], [30, 61, 62, 45, 59, 119], [116, 90, 156, 198, 373, 326]], [128, 256, 512]]\n",
            "Model summary: 270 layers, 7022326 parameters, 7022326 gradients, 15.8 GFLOPs\n",
            "\n",
            "Transferred 343/349 items from yolov5s.pt\n",
            "Scaled weight_decay = 0.0005\n",
            "\u001b[34m\u001b[1moptimizer:\u001b[0m SGD with parameter groups 57 weight (no decay), 60 weight, 60 bias\n",
            "\u001b[34m\u001b[1malbumentations: \u001b[0mversion 1.0.3 required by YOLOv5, but version 0.1.12 is currently installed\n",
            "\u001b[34m\u001b[1mtrain: \u001b[0mScanning '/content/yolov5/../train_data/labels/train.cache' images and labels... 12 found, 0 missing, 0 empty, 0 corrupt: 100% 12/12 [00:00<?, ?it/s]\n",
            "\u001b[34m\u001b[1mtrain: \u001b[0mCaching images (0.0GB ram): 100% 12/12 [00:00<00:00, 21.50it/s]\n",
            "\u001b[34m\u001b[1mval: \u001b[0mScanning '/content/yolov5/../train_data/labels/train.cache' images and labels... 12 found, 0 missing, 0 empty, 0 corrupt: 100% 12/12 [00:00<?, ?it/s]\n",
            "\u001b[34m\u001b[1mval: \u001b[0mCaching images (0.0GB ram): 100% 12/12 [00:00<00:00, 12.99it/s]\n",
            "Plotting labels to runs/train/exp2/labels.jpg... \n",
            "\n",
            "\u001b[34m\u001b[1mAutoAnchor: \u001b[0m6.00 anchors/target, 0.998 Best Possible Recall (BPR). Current anchors are a good fit to dataset ✅\n",
            "Image sizes 640 train, 640 val\n",
            "Using 2 dataloader workers\n",
            "Logging results to \u001b[1mruns/train/exp2\u001b[0m\n",
            "Starting training for 50 epochs...\n",
            "\n",
            "     Epoch   gpu_mem       box       obj       cls    labels  img_size\n",
            "      0/49    0.495G    0.1254    0.2411         0       192       640: 100% 6/6 [00:04<00:00,  1.45it/s]\n",
            "               Class     Images     Labels          P          R     mAP@.5 mAP@.5:.95:  33% 1/3 [00:00<00:00,  5.18it/s]WARNING: NMS time limit 0.120s exceeded\n",
            "               Class     Images     Labels          P          R     mAP@.5 mAP@.5:.95: 100% 3/3 [00:00<00:00,  4.93it/s]\n",
            "                 all         12        473    0.00751     0.0571    0.00397   0.000752\n",
            "\n",
            "     Epoch   gpu_mem       box       obj       cls    labels  img_size\n",
            "      1/49    0.675G    0.1237    0.2497         0       145       640: 100% 6/6 [00:01<00:00,  3.34it/s]\n",
            "               Class     Images     Labels          P          R     mAP@.5 mAP@.5:.95:  33% 1/3 [00:00<00:00,  5.07it/s]WARNING: NMS time limit 0.120s exceeded\n",
            "               Class     Images     Labels          P          R     mAP@.5 mAP@.5:.95:  67% 2/3 [00:00<00:00,  4.84it/s]WARNING: NMS time limit 0.120s exceeded\n",
            "               Class     Images     Labels          P          R     mAP@.5 mAP@.5:.95: 100% 3/3 [00:00<00:00,  4.84it/s]\n",
            "                 all         12        473     0.0114     0.0507    0.00562    0.00129\n",
            "\n",
            "     Epoch   gpu_mem       box       obj       cls    labels  img_size\n",
            "      2/49    0.726G    0.1226    0.2022         0       126       640: 100% 6/6 [00:01<00:00,  3.45it/s]\n",
            "               Class     Images     Labels          P          R     mAP@.5 mAP@.5:.95:  33% 1/3 [00:00<00:00,  4.93it/s]WARNING: NMS time limit 0.120s exceeded\n",
            "               Class     Images     Labels          P          R     mAP@.5 mAP@.5:.95:  67% 2/3 [00:00<00:00,  4.76it/s]WARNING: NMS time limit 0.120s exceeded\n",
            "               Class     Images     Labels          P          R     mAP@.5 mAP@.5:.95: 100% 3/3 [00:00<00:00,  4.74it/s]\n",
            "                 all         12        473     0.0161     0.0613     0.0079    0.00142\n",
            "\n",
            "     Epoch   gpu_mem       box       obj       cls    labels  img_size\n",
            "      3/49    0.726G    0.1242    0.2604         0       139       640: 100% 6/6 [00:01<00:00,  3.48it/s]\n",
            "               Class     Images     Labels          P          R     mAP@.5 mAP@.5:.95:  33% 1/3 [00:00<00:00,  4.98it/s]WARNING: NMS time limit 0.120s exceeded\n",
            "               Class     Images     Labels          P          R     mAP@.5 mAP@.5:.95:  67% 2/3 [00:00<00:00,  4.70it/s]WARNING: NMS time limit 0.120s exceeded\n",
            "               Class     Images     Labels          P          R     mAP@.5 mAP@.5:.95: 100% 3/3 [00:00<00:00,  4.73it/s]\n",
            "                 all         12        473     0.0161     0.0613     0.0079    0.00142\n",
            "\n",
            "     Epoch   gpu_mem       box       obj       cls    labels  img_size\n",
            "      4/49    0.726G    0.1245    0.2706         0       102       640: 100% 6/6 [00:01<00:00,  3.43it/s]\n",
            "               Class     Images     Labels          P          R     mAP@.5 mAP@.5:.95: 100% 3/3 [00:00<00:00,  4.80it/s]\n",
            "                 all         12        473     0.0179     0.0951    0.00901    0.00177\n",
            "\n",
            "     Epoch   gpu_mem       box       obj       cls    labels  img_size\n",
            "      5/49    0.726G    0.1255    0.2659         0       131       640: 100% 6/6 [00:01<00:00,  3.51it/s]\n",
            "               Class     Images     Labels          P          R     mAP@.5 mAP@.5:.95: 100% 3/3 [00:00<00:00,  4.77it/s]\n",
            "                 all         12        473     0.0179     0.0951    0.00901    0.00177\n",
            "\n",
            "     Epoch   gpu_mem       box       obj       cls    labels  img_size\n",
            "      6/49    0.726G    0.1214    0.2251         0        84       640: 100% 6/6 [00:01<00:00,  3.40it/s]\n",
            "               Class     Images     Labels          P          R     mAP@.5 mAP@.5:.95: 100% 3/3 [00:00<00:00,  4.86it/s]\n",
            "                 all         12        473     0.0224     0.0973     0.0116     0.0023\n",
            "\n",
            "     Epoch   gpu_mem       box       obj       cls    labels  img_size\n",
            "      7/49    0.726G    0.1232    0.2212         0       121       640: 100% 6/6 [00:01<00:00,  3.46it/s]\n",
            "               Class     Images     Labels          P          R     mAP@.5 mAP@.5:.95: 100% 3/3 [00:00<00:00,  4.89it/s]\n",
            "                 all         12        473     0.0224     0.0973     0.0116     0.0023\n",
            "\n",
            "     Epoch   gpu_mem       box       obj       cls    labels  img_size\n",
            "      8/49    0.726G    0.1244    0.2127         0       152       640: 100% 6/6 [00:01<00:00,  3.42it/s]\n",
            "               Class     Images     Labels          P          R     mAP@.5 mAP@.5:.95:  33% 1/3 [00:00<00:00,  4.95it/s]WARNING: NMS time limit 0.120s exceeded\n",
            "               Class     Images     Labels          P          R     mAP@.5 mAP@.5:.95: 100% 3/3 [00:00<00:00,  4.93it/s]\n",
            "                 all         12        473     0.0395      0.142     0.0222    0.00428\n",
            "\n",
            "     Epoch   gpu_mem       box       obj       cls    labels  img_size\n",
            "      9/49    0.726G    0.1202    0.2197         0        67       640: 100% 6/6 [00:01<00:00,  3.51it/s]\n",
            "               Class     Images     Labels          P          R     mAP@.5 mAP@.5:.95: 100% 3/3 [00:00<00:00,  4.86it/s]\n",
            "                 all         12        473     0.0395      0.142     0.0222    0.00428\n",
            "\n",
            "     Epoch   gpu_mem       box       obj       cls    labels  img_size\n",
            "     10/49    0.726G    0.1205    0.2399         0        46       640: 100% 6/6 [00:01<00:00,  3.45it/s]\n",
            "               Class     Images     Labels          P          R     mAP@.5 mAP@.5:.95: 100% 3/3 [00:00<00:00,  4.85it/s]\n",
            "                 all         12        473     0.0395      0.142     0.0222    0.00428\n",
            "\n",
            "     Epoch   gpu_mem       box       obj       cls    labels  img_size\n",
            "     11/49    0.726G    0.1213     0.263         0        86       640: 100% 6/6 [00:01<00:00,  3.50it/s]\n",
            "               Class     Images     Labels          P          R     mAP@.5 mAP@.5:.95:  33% 1/3 [00:00<00:00,  4.77it/s]WARNING: NMS time limit 0.120s exceeded\n",
            "               Class     Images     Labels          P          R     mAP@.5 mAP@.5:.95: 100% 3/3 [00:00<00:00,  4.84it/s]\n",
            "                 all         12        473     0.0395      0.142     0.0222    0.00428\n",
            "\n",
            "     Epoch   gpu_mem       box       obj       cls    labels  img_size\n",
            "     12/49    0.726G    0.1199    0.2303         0        61       640: 100% 6/6 [00:01<00:00,  3.46it/s]\n",
            "               Class     Images     Labels          P          R     mAP@.5 mAP@.5:.95:  33% 1/3 [00:00<00:00,  4.75it/s]WARNING: NMS time limit 0.120s exceeded\n",
            "               Class     Images     Labels          P          R     mAP@.5 mAP@.5:.95: 100% 3/3 [00:00<00:00,  4.83it/s]\n",
            "                 all         12        473     0.0395      0.142     0.0222    0.00428\n",
            "\n",
            "     Epoch   gpu_mem       box       obj       cls    labels  img_size\n",
            "     13/49    0.726G    0.1199    0.2275         0       116       640: 100% 6/6 [00:01<00:00,  3.40it/s]\n",
            "               Class     Images     Labels          P          R     mAP@.5 mAP@.5:.95:   0% 0/3 [00:00<?, ?it/s]WARNING: NMS time limit 0.120s exceeded\n",
            "               Class     Images     Labels          P          R     mAP@.5 mAP@.5:.95:  33% 1/3 [00:00<00:00,  4.76it/s]WARNING: NMS time limit 0.120s exceeded\n",
            "               Class     Images     Labels          P          R     mAP@.5 mAP@.5:.95: 100% 3/3 [00:00<00:00,  4.72it/s]\n",
            "                 all         12        473     0.0874      0.178     0.0449    0.00829\n",
            "\n",
            "     Epoch   gpu_mem       box       obj       cls    labels  img_size\n",
            "     14/49    0.726G    0.1205      0.22         0        56       640: 100% 6/6 [00:01<00:00,  3.43it/s]\n",
            "               Class     Images     Labels          P          R     mAP@.5 mAP@.5:.95:   0% 0/3 [00:00<?, ?it/s]WARNING: NMS time limit 0.120s exceeded\n",
            "               Class     Images     Labels          P          R     mAP@.5 mAP@.5:.95:  33% 1/3 [00:00<00:00,  4.70it/s]WARNING: NMS time limit 0.120s exceeded\n",
            "               Class     Images     Labels          P          R     mAP@.5 mAP@.5:.95: 100% 3/3 [00:00<00:00,  4.70it/s]\n",
            "                 all         12        473     0.0874      0.178     0.0449    0.00829\n",
            "\n",
            "     Epoch   gpu_mem       box       obj       cls    labels  img_size\n",
            "     15/49    0.726G    0.1211    0.2547         0        89       640: 100% 6/6 [00:01<00:00,  3.48it/s]\n",
            "               Class     Images     Labels          P          R     mAP@.5 mAP@.5:.95:   0% 0/3 [00:00<?, ?it/s]WARNING: NMS time limit 0.120s exceeded\n",
            "               Class     Images     Labels          P          R     mAP@.5 mAP@.5:.95:  33% 1/3 [00:00<00:00,  4.80it/s]WARNING: NMS time limit 0.120s exceeded\n",
            "               Class     Images     Labels          P          R     mAP@.5 mAP@.5:.95: 100% 3/3 [00:00<00:00,  4.75it/s]\n",
            "                 all         12        473     0.0874      0.178     0.0449    0.00829\n",
            "\n",
            "     Epoch   gpu_mem       box       obj       cls    labels  img_size\n",
            "     16/49    0.726G    0.1183    0.2309         0        66       640: 100% 6/6 [00:01<00:00,  3.49it/s]\n",
            "               Class     Images     Labels          P          R     mAP@.5 mAP@.5:.95:  33% 1/3 [00:00<00:00,  4.84it/s]WARNING: NMS time limit 0.120s exceeded\n",
            "               Class     Images     Labels          P          R     mAP@.5 mAP@.5:.95: 100% 3/3 [00:00<00:00,  4.78it/s]\n",
            "                 all         12        473     0.0874      0.178     0.0449    0.00829\n",
            "\n",
            "     Epoch   gpu_mem       box       obj       cls    labels  img_size\n",
            "     17/49    0.726G    0.1169    0.1987         0        55       640: 100% 6/6 [00:01<00:00,  3.46it/s]\n",
            "               Class     Images     Labels          P          R     mAP@.5 mAP@.5:.95:   0% 0/3 [00:00<?, ?it/s]WARNING: NMS time limit 0.120s exceeded\n",
            "               Class     Images     Labels          P          R     mAP@.5 mAP@.5:.95:  33% 1/3 [00:00<00:00,  4.74it/s]WARNING: NMS time limit 0.120s exceeded\n",
            "               Class     Images     Labels          P          R     mAP@.5 mAP@.5:.95: 100% 3/3 [00:00<00:00,  4.75it/s]\n",
            "                 all         12        473     0.0874      0.178     0.0449    0.00829\n",
            "\n",
            "     Epoch   gpu_mem       box       obj       cls    labels  img_size\n",
            "     18/49    0.726G    0.1163    0.2093         0       106       640: 100% 6/6 [00:01<00:00,  3.41it/s]\n",
            "               Class     Images     Labels          P          R     mAP@.5 mAP@.5:.95:   0% 0/3 [00:00<?, ?it/s]WARNING: NMS time limit 0.120s exceeded\n",
            "               Class     Images     Labels          P          R     mAP@.5 mAP@.5:.95:  33% 1/3 [00:00<00:00,  4.57it/s]WARNING: NMS time limit 0.120s exceeded\n",
            "               Class     Images     Labels          P          R     mAP@.5 mAP@.5:.95:  67% 2/3 [00:00<00:00,  4.53it/s]WARNING: NMS time limit 0.120s exceeded\n",
            "               Class     Images     Labels          P          R     mAP@.5 mAP@.5:.95: 100% 3/3 [00:00<00:00,  4.57it/s]\n",
            "                 all         12        473      0.105      0.266     0.0704     0.0139\n",
            "\n",
            "     Epoch   gpu_mem       box       obj       cls    labels  img_size\n",
            "     19/49    0.726G    0.1203    0.2664         0       219       640: 100% 6/6 [00:01<00:00,  3.50it/s]\n",
            "               Class     Images     Labels          P          R     mAP@.5 mAP@.5:.95:   0% 0/3 [00:00<?, ?it/s]WARNING: NMS time limit 0.120s exceeded\n",
            "               Class     Images     Labels          P          R     mAP@.5 mAP@.5:.95:  33% 1/3 [00:00<00:00,  4.40it/s]WARNING: NMS time limit 0.120s exceeded\n",
            "               Class     Images     Labels          P          R     mAP@.5 mAP@.5:.95:  67% 2/3 [00:00<00:00,  4.31it/s]WARNING: NMS time limit 0.120s exceeded\n",
            "               Class     Images     Labels          P          R     mAP@.5 mAP@.5:.95: 100% 3/3 [00:00<00:00,  4.39it/s]\n",
            "                 all         12        473      0.105      0.266     0.0704     0.0139\n",
            "\n",
            "     Epoch   gpu_mem       box       obj       cls    labels  img_size\n",
            "     20/49    0.726G    0.1153     0.228         0       104       640: 100% 6/6 [00:01<00:00,  3.50it/s]\n",
            "               Class     Images     Labels          P          R     mAP@.5 mAP@.5:.95:   0% 0/3 [00:00<?, ?it/s]WARNING: NMS time limit 0.120s exceeded\n",
            "               Class     Images     Labels          P          R     mAP@.5 mAP@.5:.95:  33% 1/3 [00:00<00:00,  4.47it/s]WARNING: NMS time limit 0.120s exceeded\n",
            "               Class     Images     Labels          P          R     mAP@.5 mAP@.5:.95:  67% 2/3 [00:00<00:00,  4.54it/s]WARNING: NMS time limit 0.120s exceeded\n",
            "               Class     Images     Labels          P          R     mAP@.5 mAP@.5:.95: 100% 3/3 [00:00<00:00,  4.55it/s]\n",
            "                 all         12        473      0.105      0.266     0.0704     0.0139\n",
            "\n",
            "     Epoch   gpu_mem       box       obj       cls    labels  img_size\n",
            "     21/49    0.726G     0.113    0.1911         0       101       640: 100% 6/6 [00:01<00:00,  3.49it/s]\n",
            "               Class     Images     Labels          P          R     mAP@.5 mAP@.5:.95:   0% 0/3 [00:00<?, ?it/s]WARNING: NMS time limit 0.120s exceeded\n",
            "               Class     Images     Labels          P          R     mAP@.5 mAP@.5:.95:  33% 1/3 [00:00<00:00,  4.41it/s]WARNING: NMS time limit 0.120s exceeded\n",
            "               Class     Images     Labels          P          R     mAP@.5 mAP@.5:.95:  67% 2/3 [00:00<00:00,  4.48it/s]WARNING: NMS time limit 0.120s exceeded\n",
            "               Class     Images     Labels          P          R     mAP@.5 mAP@.5:.95: 100% 3/3 [00:00<00:00,  4.52it/s]\n",
            "                 all         12        473      0.105      0.266     0.0704     0.0139\n",
            "\n",
            "     Epoch   gpu_mem       box       obj       cls    labels  img_size\n",
            "     22/49    0.726G      0.12    0.2555         0       180       640: 100% 6/6 [00:01<00:00,  3.49it/s]\n",
            "               Class     Images     Labels          P          R     mAP@.5 mAP@.5:.95:   0% 0/3 [00:00<?, ?it/s]WARNING: NMS time limit 0.120s exceeded\n",
            "               Class     Images     Labels          P          R     mAP@.5 mAP@.5:.95:  33% 1/3 [00:00<00:00,  4.46it/s]WARNING: NMS time limit 0.120s exceeded\n",
            "               Class     Images     Labels          P          R     mAP@.5 mAP@.5:.95:  67% 2/3 [00:00<00:00,  4.51it/s]WARNING: NMS time limit 0.120s exceeded\n",
            "               Class     Images     Labels          P          R     mAP@.5 mAP@.5:.95: 100% 3/3 [00:00<00:00,  4.53it/s]\n",
            "                 all         12        473      0.105      0.266     0.0704     0.0139\n",
            "\n",
            "     Epoch   gpu_mem       box       obj       cls    labels  img_size\n",
            "     23/49    0.726G    0.1168    0.2391         0       109       640: 100% 6/6 [00:01<00:00,  3.39it/s]\n",
            "               Class     Images     Labels          P          R     mAP@.5 mAP@.5:.95:   0% 0/3 [00:00<?, ?it/s]WARNING: NMS time limit 0.120s exceeded\n",
            "               Class     Images     Labels          P          R     mAP@.5 mAP@.5:.95:  33% 1/3 [00:00<00:00,  4.70it/s]WARNING: NMS time limit 0.120s exceeded\n",
            "               Class     Images     Labels          P          R     mAP@.5 mAP@.5:.95:  67% 2/3 [00:00<00:00,  4.62it/s]WARNING: NMS time limit 0.120s exceeded\n",
            "               Class     Images     Labels          P          R     mAP@.5 mAP@.5:.95: 100% 3/3 [00:00<00:00,  4.62it/s]\n",
            "                 all         12        473      0.106      0.319     0.0715     0.0141\n",
            "\n",
            "     Epoch   gpu_mem       box       obj       cls    labels  img_size\n",
            "     24/49    0.726G     0.117      0.22         0       188       640: 100% 6/6 [00:01<00:00,  3.50it/s]\n",
            "               Class     Images     Labels          P          R     mAP@.5 mAP@.5:.95:   0% 0/3 [00:00<?, ?it/s]WARNING: NMS time limit 0.120s exceeded\n",
            "               Class     Images     Labels          P          R     mAP@.5 mAP@.5:.95:  33% 1/3 [00:00<00:00,  4.63it/s]WARNING: NMS time limit 0.120s exceeded\n",
            "               Class     Images     Labels          P          R     mAP@.5 mAP@.5:.95:  67% 2/3 [00:00<00:00,  4.51it/s]WARNING: NMS time limit 0.120s exceeded\n",
            "               Class     Images     Labels          P          R     mAP@.5 mAP@.5:.95: 100% 3/3 [00:00<00:00,  4.51it/s]\n",
            "                 all         12        473      0.101      0.249     0.0619     0.0122\n",
            "\n",
            "     Epoch   gpu_mem       box       obj       cls    labels  img_size\n",
            "     25/49    0.726G    0.1161    0.2093         0        92       640: 100% 6/6 [00:01<00:00,  3.46it/s]\n",
            "               Class     Images     Labels          P          R     mAP@.5 mAP@.5:.95:   0% 0/3 [00:00<?, ?it/s]WARNING: NMS time limit 0.120s exceeded\n",
            "               Class     Images     Labels          P          R     mAP@.5 mAP@.5:.95:  33% 1/3 [00:00<00:00,  4.65it/s]WARNING: NMS time limit 0.120s exceeded\n",
            "               Class     Images     Labels          P          R     mAP@.5 mAP@.5:.95:  67% 2/3 [00:00<00:00,  4.48it/s]WARNING: NMS time limit 0.120s exceeded\n",
            "               Class     Images     Labels          P          R     mAP@.5 mAP@.5:.95: 100% 3/3 [00:00<00:00,  4.59it/s]\n",
            "                 all         12        473      0.106      0.319     0.0715     0.0141\n",
            "\n",
            "     Epoch   gpu_mem       box       obj       cls    labels  img_size\n",
            "     26/49    0.726G    0.1135    0.2174         0       112       640: 100% 6/6 [00:01<00:00,  3.49it/s]\n",
            "               Class     Images     Labels          P          R     mAP@.5 mAP@.5:.95:   0% 0/3 [00:00<?, ?it/s]WARNING: NMS time limit 0.120s exceeded\n",
            "               Class     Images     Labels          P          R     mAP@.5 mAP@.5:.95:  33% 1/3 [00:00<00:00,  4.66it/s]WARNING: NMS time limit 0.120s exceeded\n",
            "               Class     Images     Labels          P          R     mAP@.5 mAP@.5:.95:  67% 2/3 [00:00<00:00,  4.55it/s]WARNING: NMS time limit 0.120s exceeded\n",
            "               Class     Images     Labels          P          R     mAP@.5 mAP@.5:.95: 100% 3/3 [00:00<00:00,  4.59it/s]\n",
            "                 all         12        473      0.106      0.319     0.0715     0.0141\n",
            "\n",
            "     Epoch   gpu_mem       box       obj       cls    labels  img_size\n",
            "     27/49    0.726G    0.1151    0.2432         0       101       640: 100% 6/6 [00:01<00:00,  3.48it/s]\n",
            "               Class     Images     Labels          P          R     mAP@.5 mAP@.5:.95:   0% 0/3 [00:00<?, ?it/s]WARNING: NMS time limit 0.120s exceeded\n",
            "               Class     Images     Labels          P          R     mAP@.5 mAP@.5:.95:  33% 1/3 [00:00<00:00,  4.75it/s]WARNING: NMS time limit 0.120s exceeded\n",
            "               Class     Images     Labels          P          R     mAP@.5 mAP@.5:.95:  67% 2/3 [00:00<00:00,  4.60it/s]WARNING: NMS time limit 0.120s exceeded\n",
            "               Class     Images     Labels          P          R     mAP@.5 mAP@.5:.95: 100% 3/3 [00:00<00:00,  4.65it/s]\n",
            "                 all         12        473      0.106      0.319     0.0715     0.0141\n",
            "\n",
            "     Epoch   gpu_mem       box       obj       cls    labels  img_size\n",
            "     28/49    0.726G    0.1152    0.2137         0       199       640: 100% 6/6 [00:01<00:00,  3.46it/s]\n",
            "               Class     Images     Labels          P          R     mAP@.5 mAP@.5:.95:   0% 0/3 [00:00<?, ?it/s]WARNING: NMS time limit 0.120s exceeded\n",
            "               Class     Images     Labels          P          R     mAP@.5 mAP@.5:.95:  33% 1/3 [00:00<00:00,  4.61it/s]WARNING: NMS time limit 0.120s exceeded\n",
            "               Class     Images     Labels          P          R     mAP@.5 mAP@.5:.95:  67% 2/3 [00:00<00:00,  4.47it/s]WARNING: NMS time limit 0.120s exceeded\n",
            "               Class     Images     Labels          P          R     mAP@.5 mAP@.5:.95: 100% 3/3 [00:00<00:00,  4.46it/s]\n",
            "                 all         12        473      0.106      0.319     0.0715     0.0141\n",
            "\n",
            "     Epoch   gpu_mem       box       obj       cls    labels  img_size\n",
            "     29/49    0.726G    0.1151    0.2329         0       108       640: 100% 6/6 [00:01<00:00,  3.40it/s]\n",
            "               Class     Images     Labels          P          R     mAP@.5 mAP@.5:.95:   0% 0/3 [00:00<?, ?it/s]WARNING: NMS time limit 0.120s exceeded\n",
            "               Class     Images     Labels          P          R     mAP@.5 mAP@.5:.95:  33% 1/3 [00:00<00:00,  4.46it/s]WARNING: NMS time limit 0.120s exceeded\n",
            "               Class     Images     Labels          P          R     mAP@.5 mAP@.5:.95:  67% 2/3 [00:00<00:00,  4.28it/s]WARNING: NMS time limit 0.120s exceeded\n",
            "               Class     Images     Labels          P          R     mAP@.5 mAP@.5:.95: 100% 3/3 [00:00<00:00,  4.40it/s]\n",
            "                 all         12        473      0.128      0.328     0.0855     0.0172\n",
            "\n",
            "     Epoch   gpu_mem       box       obj       cls    labels  img_size\n",
            "     30/49    0.726G    0.1152    0.2231         0        76       640: 100% 6/6 [00:01<00:00,  3.51it/s]\n",
            "               Class     Images     Labels          P          R     mAP@.5 mAP@.5:.95:   0% 0/3 [00:00<?, ?it/s]WARNING: NMS time limit 0.120s exceeded\n",
            "               Class     Images     Labels          P          R     mAP@.5 mAP@.5:.95:  33% 1/3 [00:00<00:00,  4.52it/s]WARNING: NMS time limit 0.120s exceeded\n",
            "               Class     Images     Labels          P          R     mAP@.5 mAP@.5:.95:  67% 2/3 [00:00<00:00,  4.53it/s]WARNING: NMS time limit 0.120s exceeded\n",
            "               Class     Images     Labels          P          R     mAP@.5 mAP@.5:.95: 100% 3/3 [00:00<00:00,  4.53it/s]\n",
            "                 all         12        473      0.128      0.328     0.0855     0.0172\n",
            "\n",
            "     Epoch   gpu_mem       box       obj       cls    labels  img_size\n",
            "     31/49    0.726G    0.1162    0.2518         0       184       640: 100% 6/6 [00:01<00:00,  3.51it/s]\n",
            "               Class     Images     Labels          P          R     mAP@.5 mAP@.5:.95:   0% 0/3 [00:00<?, ?it/s]WARNING: NMS time limit 0.120s exceeded\n",
            "               Class     Images     Labels          P          R     mAP@.5 mAP@.5:.95:  33% 1/3 [00:00<00:00,  4.65it/s]WARNING: NMS time limit 0.120s exceeded\n",
            "               Class     Images     Labels          P          R     mAP@.5 mAP@.5:.95:  67% 2/3 [00:00<00:00,  4.40it/s]WARNING: NMS time limit 0.120s exceeded\n",
            "               Class     Images     Labels          P          R     mAP@.5 mAP@.5:.95: 100% 3/3 [00:00<00:00,  4.45it/s]\n",
            "                 all         12        473      0.128      0.328     0.0855     0.0172\n",
            "\n",
            "     Epoch   gpu_mem       box       obj       cls    labels  img_size\n",
            "     32/49    0.726G    0.1153    0.2486         0        68       640: 100% 6/6 [00:01<00:00,  3.50it/s]\n",
            "               Class     Images     Labels          P          R     mAP@.5 mAP@.5:.95:   0% 0/3 [00:00<?, ?it/s]WARNING: NMS time limit 0.120s exceeded\n",
            "               Class     Images     Labels          P          R     mAP@.5 mAP@.5:.95:  33% 1/3 [00:00<00:00,  4.65it/s]WARNING: NMS time limit 0.120s exceeded\n",
            "               Class     Images     Labels          P          R     mAP@.5 mAP@.5:.95:  67% 2/3 [00:00<00:00,  4.60it/s]WARNING: NMS time limit 0.120s exceeded\n",
            "               Class     Images     Labels          P          R     mAP@.5 mAP@.5:.95: 100% 3/3 [00:00<00:00,  4.64it/s]\n",
            "                 all         12        473      0.128      0.328     0.0855     0.0172\n",
            "\n",
            "     Epoch   gpu_mem       box       obj       cls    labels  img_size\n",
            "     33/49    0.726G    0.1096    0.1932         0       109       640: 100% 6/6 [00:01<00:00,  3.50it/s]\n",
            "               Class     Images     Labels          P          R     mAP@.5 mAP@.5:.95:   0% 0/3 [00:00<?, ?it/s]WARNING: NMS time limit 0.120s exceeded\n",
            "               Class     Images     Labels          P          R     mAP@.5 mAP@.5:.95:  33% 1/3 [00:00<00:00,  4.76it/s]WARNING: NMS time limit 0.120s exceeded\n",
            "               Class     Images     Labels          P          R     mAP@.5 mAP@.5:.95:  67% 2/3 [00:00<00:00,  4.56it/s]WARNING: NMS time limit 0.120s exceeded\n",
            "               Class     Images     Labels          P          R     mAP@.5 mAP@.5:.95: 100% 3/3 [00:00<00:00,  4.61it/s]\n",
            "                 all         12        473      0.128      0.328     0.0855     0.0172\n",
            "\n",
            "     Epoch   gpu_mem       box       obj       cls    labels  img_size\n",
            "     34/49    0.726G    0.1098    0.1988         0       150       640: 100% 6/6 [00:01<00:00,  3.39it/s]\n",
            "               Class     Images     Labels          P          R     mAP@.5 mAP@.5:.95:   0% 0/3 [00:00<?, ?it/s]WARNING: NMS time limit 0.120s exceeded\n",
            "               Class     Images     Labels          P          R     mAP@.5 mAP@.5:.95:  33% 1/3 [00:00<00:00,  4.52it/s]WARNING: NMS time limit 0.120s exceeded\n",
            "               Class     Images     Labels          P          R     mAP@.5 mAP@.5:.95:  67% 2/3 [00:00<00:00,  4.36it/s]WARNING: NMS time limit 0.120s exceeded\n",
            "               Class     Images     Labels          P          R     mAP@.5 mAP@.5:.95: 100% 3/3 [00:00<00:00,  4.43it/s]\n",
            "                 all         12        473       0.15      0.334     0.0932     0.0194\n",
            "\n",
            "     Epoch   gpu_mem       box       obj       cls    labels  img_size\n",
            "     35/49    0.726G    0.1102    0.2267         0        97       640: 100% 6/6 [00:01<00:00,  3.47it/s]\n",
            "               Class     Images     Labels          P          R     mAP@.5 mAP@.5:.95:   0% 0/3 [00:00<?, ?it/s]WARNING: NMS time limit 0.120s exceeded\n",
            "               Class     Images     Labels          P          R     mAP@.5 mAP@.5:.95:  33% 1/3 [00:00<00:00,  4.55it/s]WARNING: NMS time limit 0.120s exceeded\n",
            "               Class     Images     Labels          P          R     mAP@.5 mAP@.5:.95:  67% 2/3 [00:00<00:00,  4.44it/s]WARNING: NMS time limit 0.120s exceeded\n",
            "               Class     Images     Labels          P          R     mAP@.5 mAP@.5:.95: 100% 3/3 [00:00<00:00,  4.48it/s]\n",
            "                 all         12        473       0.15      0.334     0.0932     0.0194\n",
            "\n",
            "     Epoch   gpu_mem       box       obj       cls    labels  img_size\n",
            "     36/49    0.726G    0.1147     0.235         0        94       640: 100% 6/6 [00:01<00:00,  3.50it/s]\n",
            "               Class     Images     Labels          P          R     mAP@.5 mAP@.5:.95:   0% 0/3 [00:00<?, ?it/s]WARNING: NMS time limit 0.120s exceeded\n",
            "               Class     Images     Labels          P          R     mAP@.5 mAP@.5:.95:  33% 1/3 [00:00<00:00,  4.36it/s]WARNING: NMS time limit 0.120s exceeded\n",
            "               Class     Images     Labels          P          R     mAP@.5 mAP@.5:.95:  67% 2/3 [00:00<00:00,  4.37it/s]WARNING: NMS time limit 0.120s exceeded\n",
            "               Class     Images     Labels          P          R     mAP@.5 mAP@.5:.95: 100% 3/3 [00:00<00:00,  4.45it/s]\n",
            "                 all         12        473       0.15      0.334     0.0932     0.0194\n",
            "\n",
            "     Epoch   gpu_mem       box       obj       cls    labels  img_size\n",
            "     37/49    0.726G    0.1096    0.2049         0        80       640: 100% 6/6 [00:01<00:00,  3.46it/s]\n",
            "               Class     Images     Labels          P          R     mAP@.5 mAP@.5:.95:   0% 0/3 [00:00<?, ?it/s]WARNING: NMS time limit 0.120s exceeded\n",
            "               Class     Images     Labels          P          R     mAP@.5 mAP@.5:.95:  33% 1/3 [00:00<00:00,  4.44it/s]WARNING: NMS time limit 0.120s exceeded\n",
            "               Class     Images     Labels          P          R     mAP@.5 mAP@.5:.95:  67% 2/3 [00:00<00:00,  4.53it/s]WARNING: NMS time limit 0.120s exceeded\n",
            "               Class     Images     Labels          P          R     mAP@.5 mAP@.5:.95: 100% 3/3 [00:00<00:00,  4.53it/s]\n",
            "                 all         12        473       0.15      0.334     0.0932     0.0194\n",
            "\n",
            "     Epoch   gpu_mem       box       obj       cls    labels  img_size\n",
            "     38/49    0.726G    0.1123    0.2431         0        86       640: 100% 6/6 [00:01<00:00,  3.49it/s]\n",
            "               Class     Images     Labels          P          R     mAP@.5 mAP@.5:.95:   0% 0/3 [00:00<?, ?it/s]WARNING: NMS time limit 0.120s exceeded\n",
            "               Class     Images     Labels          P          R     mAP@.5 mAP@.5:.95:  33% 1/3 [00:00<00:00,  4.54it/s]WARNING: NMS time limit 0.120s exceeded\n",
            "               Class     Images     Labels          P          R     mAP@.5 mAP@.5:.95:  67% 2/3 [00:00<00:00,  4.46it/s]WARNING: NMS time limit 0.120s exceeded\n",
            "               Class     Images     Labels          P          R     mAP@.5 mAP@.5:.95: 100% 3/3 [00:00<00:00,  4.47it/s]\n",
            "                 all         12        473       0.15      0.334     0.0932     0.0194\n",
            "\n",
            "     Epoch   gpu_mem       box       obj       cls    labels  img_size\n",
            "     39/49    0.726G     0.112    0.2234         0       149       640: 100% 6/6 [00:01<00:00,  3.46it/s]\n",
            "               Class     Images     Labels          P          R     mAP@.5 mAP@.5:.95:   0% 0/3 [00:00<?, ?it/s]WARNING: NMS time limit 0.120s exceeded\n",
            "               Class     Images     Labels          P          R     mAP@.5 mAP@.5:.95:  33% 1/3 [00:00<00:00,  4.59it/s]WARNING: NMS time limit 0.120s exceeded\n",
            "               Class     Images     Labels          P          R     mAP@.5 mAP@.5:.95:  67% 2/3 [00:00<00:00,  4.57it/s]WARNING: NMS time limit 0.120s exceeded\n",
            "               Class     Images     Labels          P          R     mAP@.5 mAP@.5:.95: 100% 3/3 [00:00<00:00,  4.62it/s]\n",
            "                 all         12        473      0.154      0.347      0.103     0.0202\n",
            "\n",
            "     Epoch   gpu_mem       box       obj       cls    labels  img_size\n",
            "     40/49    0.726G    0.1113     0.236         0        53       640: 100% 6/6 [00:01<00:00,  3.50it/s]\n",
            "               Class     Images     Labels          P          R     mAP@.5 mAP@.5:.95:   0% 0/3 [00:00<?, ?it/s]WARNING: NMS time limit 0.120s exceeded\n",
            "               Class     Images     Labels          P          R     mAP@.5 mAP@.5:.95:  33% 1/3 [00:00<00:00,  4.64it/s]WARNING: NMS time limit 0.120s exceeded\n",
            "               Class     Images     Labels          P          R     mAP@.5 mAP@.5:.95:  67% 2/3 [00:00<00:00,  4.54it/s]WARNING: NMS time limit 0.120s exceeded\n",
            "               Class     Images     Labels          P          R     mAP@.5 mAP@.5:.95: 100% 3/3 [00:00<00:00,  4.58it/s]\n",
            "                 all         12        473      0.154      0.347      0.103     0.0202\n",
            "\n",
            "     Epoch   gpu_mem       box       obj       cls    labels  img_size\n",
            "     41/49    0.726G    0.1151    0.2206         0       185       640: 100% 6/6 [00:01<00:00,  3.52it/s]\n",
            "               Class     Images     Labels          P          R     mAP@.5 mAP@.5:.95:   0% 0/3 [00:00<?, ?it/s]WARNING: NMS time limit 0.120s exceeded\n",
            "               Class     Images     Labels          P          R     mAP@.5 mAP@.5:.95:  33% 1/3 [00:00<00:00,  4.69it/s]WARNING: NMS time limit 0.120s exceeded\n",
            "               Class     Images     Labels          P          R     mAP@.5 mAP@.5:.95:  67% 2/3 [00:00<00:00,  4.64it/s]WARNING: NMS time limit 0.120s exceeded\n",
            "               Class     Images     Labels          P          R     mAP@.5 mAP@.5:.95: 100% 3/3 [00:00<00:00,  4.64it/s]\n",
            "                 all         12        473      0.154      0.347      0.103     0.0202\n",
            "\n",
            "     Epoch   gpu_mem       box       obj       cls    labels  img_size\n",
            "     42/49    0.726G    0.1099    0.2083         0        94       640: 100% 6/6 [00:01<00:00,  3.42it/s]\n",
            "               Class     Images     Labels          P          R     mAP@.5 mAP@.5:.95:   0% 0/3 [00:00<?, ?it/s]WARNING: NMS time limit 0.120s exceeded\n",
            "               Class     Images     Labels          P          R     mAP@.5 mAP@.5:.95:  33% 1/3 [00:00<00:00,  4.52it/s]WARNING: NMS time limit 0.120s exceeded\n",
            "               Class     Images     Labels          P          R     mAP@.5 mAP@.5:.95:  67% 2/3 [00:00<00:00,  4.48it/s]WARNING: NMS time limit 0.120s exceeded\n",
            "               Class     Images     Labels          P          R     mAP@.5 mAP@.5:.95: 100% 3/3 [00:00<00:00,  4.54it/s]\n",
            "                 all         12        473      0.154      0.347      0.103     0.0202\n",
            "\n",
            "     Epoch   gpu_mem       box       obj       cls    labels  img_size\n",
            "     43/49    0.726G    0.1106    0.2049         0       149       640: 100% 6/6 [00:01<00:00,  3.50it/s]\n",
            "               Class     Images     Labels          P          R     mAP@.5 mAP@.5:.95:   0% 0/3 [00:00<?, ?it/s]WARNING: NMS time limit 0.120s exceeded\n",
            "               Class     Images     Labels          P          R     mAP@.5 mAP@.5:.95:  33% 1/3 [00:00<00:00,  4.53it/s]WARNING: NMS time limit 0.120s exceeded\n",
            "               Class     Images     Labels          P          R     mAP@.5 mAP@.5:.95:  67% 2/3 [00:00<00:00,  4.56it/s]WARNING: NMS time limit 0.120s exceeded\n",
            "               Class     Images     Labels          P          R     mAP@.5 mAP@.5:.95: 100% 3/3 [00:00<00:00,  4.62it/s]\n",
            "                 all         12        473      0.154      0.347      0.103     0.0202\n",
            "\n",
            "     Epoch   gpu_mem       box       obj       cls    labels  img_size\n",
            "     44/49    0.726G    0.1112     0.232         0       158       640: 100% 6/6 [00:01<00:00,  3.49it/s]\n",
            "               Class     Images     Labels          P          R     mAP@.5 mAP@.5:.95:   0% 0/3 [00:00<?, ?it/s]WARNING: NMS time limit 0.120s exceeded\n",
            "               Class     Images     Labels          P          R     mAP@.5 mAP@.5:.95:  33% 1/3 [00:00<00:00,  4.66it/s]WARNING: NMS time limit 0.120s exceeded\n",
            "               Class     Images     Labels          P          R     mAP@.5 mAP@.5:.95:  67% 2/3 [00:00<00:00,  4.64it/s]WARNING: NMS time limit 0.120s exceeded\n",
            "               Class     Images     Labels          P          R     mAP@.5 mAP@.5:.95: 100% 3/3 [00:00<00:00,  4.70it/s]\n",
            "                 all         12        473      0.154      0.347      0.103     0.0202\n",
            "\n",
            "     Epoch   gpu_mem       box       obj       cls    labels  img_size\n",
            "     45/49    0.726G    0.1124    0.2237         0       152       640: 100% 6/6 [00:01<00:00,  3.45it/s]\n",
            "               Class     Images     Labels          P          R     mAP@.5 mAP@.5:.95:  33% 1/3 [00:00<00:00,  4.85it/s]WARNING: NMS time limit 0.120s exceeded\n",
            "               Class     Images     Labels          P          R     mAP@.5 mAP@.5:.95: 100% 3/3 [00:00<00:00,  4.79it/s]\n",
            "                 all         12        473      0.148      0.321      0.107     0.0208\n",
            "\n",
            "     Epoch   gpu_mem       box       obj       cls    labels  img_size\n",
            "     46/49    0.726G    0.1096    0.1899         0       111       640: 100% 6/6 [00:01<00:00,  3.49it/s]\n",
            "               Class     Images     Labels          P          R     mAP@.5 mAP@.5:.95:   0% 0/3 [00:00<?, ?it/s]WARNING: NMS time limit 0.120s exceeded\n",
            "               Class     Images     Labels          P          R     mAP@.5 mAP@.5:.95:  33% 1/3 [00:00<00:00,  4.44it/s]WARNING: NMS time limit 0.120s exceeded\n",
            "               Class     Images     Labels          P          R     mAP@.5 mAP@.5:.95: 100% 3/3 [00:00<00:00,  4.53it/s]\n",
            "                 all         12        473      0.148      0.321      0.107     0.0208\n",
            "\n",
            "     Epoch   gpu_mem       box       obj       cls    labels  img_size\n",
            "     47/49    0.726G    0.1132    0.2017         0       139       640: 100% 6/6 [00:01<00:00,  3.49it/s]\n",
            "               Class     Images     Labels          P          R     mAP@.5 mAP@.5:.95:  33% 1/3 [00:00<00:00,  4.82it/s]WARNING: NMS time limit 0.120s exceeded\n",
            "               Class     Images     Labels          P          R     mAP@.5 mAP@.5:.95: 100% 3/3 [00:00<00:00,  4.75it/s]\n",
            "                 all         12        473      0.148      0.321      0.107     0.0208\n",
            "\n",
            "     Epoch   gpu_mem       box       obj       cls    labels  img_size\n",
            "     48/49    0.726G    0.1082    0.2216         0       110       640: 100% 6/6 [00:01<00:00,  3.52it/s]\n",
            "               Class     Images     Labels          P          R     mAP@.5 mAP@.5:.95:   0% 0/3 [00:00<?, ?it/s]WARNING: NMS time limit 0.120s exceeded\n",
            "               Class     Images     Labels          P          R     mAP@.5 mAP@.5:.95:  33% 1/3 [00:00<00:00,  4.62it/s]WARNING: NMS time limit 0.120s exceeded\n",
            "               Class     Images     Labels          P          R     mAP@.5 mAP@.5:.95: 100% 3/3 [00:00<00:00,  4.60it/s]\n",
            "                 all         12        473      0.148      0.321      0.107     0.0208\n",
            "\n",
            "     Epoch   gpu_mem       box       obj       cls    labels  img_size\n",
            "     49/49    0.726G    0.1093    0.2141         0        96       640: 100% 6/6 [00:01<00:00,  3.53it/s]\n",
            "               Class     Images     Labels          P          R     mAP@.5 mAP@.5:.95:  33% 1/3 [00:00<00:00,  4.84it/s]WARNING: NMS time limit 0.120s exceeded\n",
            "               Class     Images     Labels          P          R     mAP@.5 mAP@.5:.95: 100% 3/3 [00:00<00:00,  4.74it/s]\n",
            "                 all         12        473      0.148      0.321      0.107     0.0208\n",
            "\n",
            "50 epochs completed in 0.044 hours.\n",
            "Optimizer stripped from runs/train/exp2/weights/last.pt, 14.4MB\n",
            "Optimizer stripped from runs/train/exp2/weights/best.pt, 14.4MB\n",
            "\n",
            "Validating runs/train/exp2/weights/best.pt...\n",
            "Fusing layers... \n",
            "Model summary: 213 layers, 7012822 parameters, 0 gradients, 15.8 GFLOPs\n",
            "               Class     Images     Labels          P          R     mAP@.5 mAP@.5:.95:   0% 0/3 [00:00<?, ?it/s]WARNING: NMS time limit 0.120s exceeded\n",
            "               Class     Images     Labels          P          R     mAP@.5 mAP@.5:.95:  33% 1/3 [00:00<00:01,  1.37it/s]WARNING: NMS time limit 0.120s exceeded\n",
            "               Class     Images     Labels          P          R     mAP@.5 mAP@.5:.95:  67% 2/3 [00:02<00:01,  1.09s/it]WARNING: NMS time limit 0.120s exceeded\n",
            "               Class     Images     Labels          P          R     mAP@.5 mAP@.5:.95: 100% 3/3 [00:04<00:00,  1.37s/it]\n",
            "                 all         12        473      0.131      0.306     0.0848     0.0177\n",
            "Results saved to \u001b[1mruns/train/exp2\u001b[0m\n"
          ]
        }
      ]
    },
    {
      "cell_type": "markdown",
      "metadata": {
        "id": "15glLzbQx5u0"
      },
      "source": [
        "# 4. Visualize"
      ]
    },
    {
      "cell_type": "markdown",
      "metadata": {
        "id": "DLI1JmHU7B0l"
      },
      "source": [
        "## Weights & Biases Logging 🌟 NEW\n",
        "\n",
        "[Weights & Biases](https://wandb.ai/site?utm_campaign=repo_yolo_notebook) (W&B) is now integrated with YOLOv5 for real-time visualization and cloud logging of training runs. This allows for better run comparison and introspection, as well improved visibility and collaboration for teams. To enable W&B `pip install wandb`, and then train normally (you will be guided through setup on first use). \n",
        "\n",
        "During training you will see live updates at [https://wandb.ai/home](https://wandb.ai/home?utm_campaign=repo_yolo_notebook), and you can create and share detailed [Reports](https://wandb.ai/glenn-jocher/yolov5_tutorial/reports/YOLOv5-COCO128-Tutorial-Results--VmlldzozMDI5OTY) of your results. For more information see the [YOLOv5 Weights & Biases Tutorial](https://github.com/ultralytics/yolov5/issues/1289). \n",
        "\n",
        "<p align=\"left\"><img width=\"900\" alt=\"Weights & Biases dashboard\" src=\"https://user-images.githubusercontent.com/26833433/135390767-c28b050f-8455-4004-adb0-3b730386e2b2.png\"></p>"
      ]
    },
    {
      "cell_type": "markdown",
      "metadata": {
        "id": "-WPvRbS5Swl6"
      },
      "source": [
        "## Local Logging\n",
        "\n",
        "All results are logged by default to `runs/train`, with a new experiment directory created for each new training as `runs/train/exp2`, `runs/train/exp3`, etc. View train and val jpgs to see mosaics, labels, predictions and augmentation effects. Note an Ultralytics **Mosaic Dataloader** is used for training (shown below), which combines 4 images into 1 mosaic during training.\n",
        "\n",
        "> <img src=\"https://user-images.githubusercontent.com/26833433/131255960-b536647f-7c61-4f60-bbc5-cb2544d71b2a.jpg\" width=\"700\">  \n",
        "`train_batch0.jpg` shows train batch 0 mosaics and labels\n",
        "\n",
        "> <img src=\"https://user-images.githubusercontent.com/26833433/131256748-603cafc7-55d1-4e58-ab26-83657761aed9.jpg\" width=\"700\">  \n",
        "`test_batch0_labels.jpg` shows val batch 0 labels\n",
        "\n",
        "> <img src=\"https://user-images.githubusercontent.com/26833433/131256752-3f25d7a5-7b0f-4bb3-ab78-46343c3800fe.jpg\" width=\"700\">  \n",
        "`test_batch0_pred.jpg` shows val batch 0 _predictions_\n",
        "\n",
        "Training results are automatically logged to [Tensorboard](https://www.tensorflow.org/tensorboard) and [CSV](https://github.com/ultralytics/yolov5/pull/4148) as `results.csv`, which is plotted as `results.png` (below) after training completes. You can also plot any `results.csv` file manually:\n",
        "\n",
        "```python\n",
        "from utils.plots import plot_results \n",
        "plot_results('path/to/results.csv')  # plot 'results.csv' as 'results.png'\n",
        "```\n",
        "\n",
        "<img align=\"left\" width=\"800\" alt=\"COCO128 Training Results\" src=\"https://user-images.githubusercontent.com/26833433/126906780-8c5e2990-6116-4de6-b78a-367244a33ccf.png\">"
      ]
    },
    {
      "cell_type": "markdown",
      "metadata": {
        "id": "Zelyeqbyt3GD"
      },
      "source": [
        "# Environments\n",
        "\n",
        "YOLOv5 may be run in any of the following up-to-date verified environments (with all dependencies including [CUDA](https://developer.nvidia.com/cuda)/[CUDNN](https://developer.nvidia.com/cudnn), [Python](https://www.python.org/) and [PyTorch](https://pytorch.org/) preinstalled):\n",
        "\n",
        "- **Google Colab and Kaggle** notebooks with free GPU: <a href=\"https://colab.research.google.com/github/ultralytics/yolov5/blob/master/tutorial.ipynb\"><img src=\"https://colab.research.google.com/assets/colab-badge.svg\" alt=\"Open In Colab\"></a> <a href=\"https://www.kaggle.com/ultralytics/yolov5\"><img src=\"https://kaggle.com/static/images/open-in-kaggle.svg\" alt=\"Open In Kaggle\"></a>\n",
        "- **Google Cloud** Deep Learning VM. See [GCP Quickstart Guide](https://github.com/ultralytics/yolov5/wiki/GCP-Quickstart)\n",
        "- **Amazon** Deep Learning AMI. See [AWS Quickstart Guide](https://github.com/ultralytics/yolov5/wiki/AWS-Quickstart)\n",
        "- **Docker Image**. See [Docker Quickstart Guide](https://github.com/ultralytics/yolov5/wiki/Docker-Quickstart) <a href=\"https://hub.docker.com/r/ultralytics/yolov5\"><img src=\"https://img.shields.io/docker/pulls/ultralytics/yolov5?logo=docker\" alt=\"Docker Pulls\"></a>\n"
      ]
    },
    {
      "cell_type": "markdown",
      "metadata": {
        "id": "6Qu7Iesl0p54"
      },
      "source": [
        "# Status\n",
        "\n",
        "![CI CPU testing](https://github.com/ultralytics/yolov5/workflows/CI%20CPU%20testing/badge.svg)\n",
        "\n",
        "If this badge is green, all [YOLOv5 GitHub Actions](https://github.com/ultralytics/yolov5/actions) Continuous Integration (CI) tests are currently passing. CI tests verify correct operation of YOLOv5 training ([train.py](https://github.com/ultralytics/yolov5/blob/master/train.py)), testing ([val.py](https://github.com/ultralytics/yolov5/blob/master/val.py)), inference ([detect.py](https://github.com/ultralytics/yolov5/blob/master/detect.py)) and export ([export.py](https://github.com/ultralytics/yolov5/blob/master/export.py)) on MacOS, Windows, and Ubuntu every 24 hours and on every commit.\n"
      ]
    },
    {
      "cell_type": "markdown",
      "metadata": {
        "id": "IEijrePND_2I"
      },
      "source": [
        "# Appendix\n",
        "\n",
        "Optional extras below. Unit tests validate repo functionality and should be run on any PRs submitted.\n"
      ]
    },
    {
      "cell_type": "code",
      "metadata": {
        "id": "mcKoSIK2WSzj"
      },
      "source": [
        "# Reproduce\n",
        "for x in 'yolov5n', 'yolov5s', 'yolov5m', 'yolov5l', 'yolov5x':\n",
        "  !python val.py --weights {x}.pt --data coco.yaml --img 640 --task speed  # speed\n",
        "  !python val.py --weights {x}.pt --data coco.yaml --img 640 --conf 0.001 --iou 0.65  # mAP"
      ],
      "execution_count": null,
      "outputs": []
    },
    {
      "cell_type": "code",
      "metadata": {
        "id": "GMusP4OAxFu6"
      },
      "source": [
        "# PyTorch Hub\n",
        "import torch\n",
        "\n",
        "# Model\n",
        "model = torch.hub.load('ultralytics/yolov5', 'yolov5s')\n",
        "\n",
        "# Images\n",
        "dir = 'https://ultralytics.com/images/'\n",
        "imgs = [dir + f for f in ('zidane.jpg', 'bus.jpg')]  # batch of images\n",
        "\n",
        "# Inference\n",
        "results = model(imgs)\n",
        "results.print()  # or .show(), .save()"
      ],
      "execution_count": null,
      "outputs": []
    },
    {
      "cell_type": "code",
      "metadata": {
        "id": "FGH0ZjkGjejy"
      },
      "source": [
        "# CI Checks\n",
        "%%shell\n",
        "export PYTHONPATH=\"$PWD\"  # to run *.py. files in subdirectories\n",
        "rm -rf runs  # remove runs/\n",
        "for m in yolov5n; do  # models\n",
        "  python train.py --img 64 --batch 32 --weights $m.pt --epochs 1 --device 0  # train pretrained\n",
        "  python train.py --img 64 --batch 32 --weights '' --cfg $m.yaml --epochs 1 --device 0  # train scratch\n",
        "  for d in 0 cpu; do  # devices\n",
        "    python val.py --weights $m.pt --device $d # val official\n",
        "    python val.py --weights runs/train/exp/weights/best.pt --device $d # val custom\n",
        "    python detect.py --weights $m.pt --device $d  # detect official\n",
        "    python detect.py --weights runs/train/exp/weights/best.pt --device $d  # detect custom\n",
        "  done\n",
        "  python hubconf.py  # hub\n",
        "  python models/yolo.py --cfg $m.yaml  # build PyTorch model\n",
        "  python models/tf.py --weights $m.pt  # build TensorFlow model\n",
        "  python export.py --img 64 --batch 1 --weights $m.pt --include torchscript onnx  # export\n",
        "done"
      ],
      "execution_count": null,
      "outputs": []
    },
    {
      "cell_type": "code",
      "metadata": {
        "id": "gogI-kwi3Tye"
      },
      "source": [
        "# Profile\n",
        "from utils.torch_utils import profile\n",
        "\n",
        "m1 = lambda x: x * torch.sigmoid(x)\n",
        "m2 = torch.nn.SiLU()\n",
        "results = profile(input=torch.randn(16, 3, 640, 640), ops=[m1, m2], n=100)"
      ],
      "execution_count": null,
      "outputs": []
    },
    {
      "cell_type": "code",
      "metadata": {
        "id": "RVRSOhEvUdb5"
      },
      "source": [
        "# Evolve\n",
        "!python train.py --img 640 --batch 64 --epochs 100 --data coco128.yaml --weights yolov5s.pt --cache --noautoanchor --evolve\n",
        "!d=runs/train/evolve && cp evolve.* $d && zip -r evolve.zip $d && gsutil mv evolve.zip gs://bucket  # upload results (optional)"
      ],
      "execution_count": null,
      "outputs": []
    },
    {
      "cell_type": "code",
      "metadata": {
        "id": "BSgFCAcMbk1R"
      },
      "source": [
        "# VOC\n",
        "for b, m in zip([64, 64, 32, 16], ['yolov5s', 'yolov5m', 'yolov5l', 'yolov5x']):  # zip(batch_size, model)\n",
        "  !python train.py --batch {b} --weights {m}.pt --data VOC.yaml --epochs 50 --cache --img 512 --nosave --hyp hyp.VOC.yaml --project VOC --name {m}"
      ],
      "execution_count": null,
      "outputs": []
    },
    {
      "cell_type": "code",
      "metadata": {
        "id": "VTRwsvA9u7ln"
      },
      "source": [
        "# TensorRT \n",
        "# https://docs.nvidia.com/deeplearning/tensorrt/install-guide/index.html#installing-pip\n",
        "!pip install -U nvidia-tensorrt --index-url https://pypi.ngc.nvidia.com  # install\n",
        "!python export.py --weights yolov5s.pt --include engine --imgsz 640 640 --device 0  # export\n",
        "!python detect.py --weights yolov5s.engine --imgsz 640 640 --device 0  # inference"
      ],
      "execution_count": null,
      "outputs": []
    }
  ]
}