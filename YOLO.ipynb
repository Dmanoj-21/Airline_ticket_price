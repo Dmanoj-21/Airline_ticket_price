{
  "nbformat": 4,
  "nbformat_minor": 0,
  "metadata": {
    "colab": {
      "name": "Untitled3.ipynb",
      "provenance": [],
      "authorship_tag": "ABX9TyPtIrVZVa8YPRMNbsDJhNti",
      "include_colab_link": true
    },
    "kernelspec": {
      "name": "python3",
      "display_name": "Python 3"
    },
    "language_info": {
      "name": "python"
    }
  },
  "cells": [
    {
      "cell_type": "markdown",
      "metadata": {
        "id": "view-in-github",
        "colab_type": "text"
      },
      "source": [
        "<a href=\"https://colab.research.google.com/github/dmanojprabakar/Airline_ticket_price/blob/master/YOLO.ipynb\" target=\"_parent\"><img src=\"https://colab.research.google.com/assets/colab-badge.svg\" alt=\"Open In Colab\"/></a>"
      ]
    },
    {
      "cell_type": "code",
      "execution_count": 1,
      "metadata": {
        "colab": {
          "base_uri": "https://localhost:8080/"
        },
        "id": "vVbKUL1aToQ1",
        "outputId": "8158a80b-2678-4fcd-cc57-e6e0a440f9d7"
      },
      "outputs": [
        {
          "output_type": "stream",
          "name": "stderr",
          "text": [
            "YOLOv5 🚀 v6.1-105-gd257c75 torch 1.10.0+cu111 CPU\n"
          ]
        },
        {
          "output_type": "stream",
          "name": "stdout",
          "text": [
            "Setup complete ✅ (2 CPUs, 12.7 GB RAM, 39.6/107.7 GB disk)\n"
          ]
        }
      ],
      "source": [
        "!git clone https://github.com/ultralytics/yolov5  # clone\n",
        "%cd yolov5\n",
        "%pip install -qr requirements.txt  # install\n",
        "\n",
        "import torch\n",
        "from yolov5 import utils\n",
        "display = utils.notebook_init()  # checks"
      ]
    },
    {
      "cell_type": "code",
      "source": [
        "pwd"
      ],
      "metadata": {
        "colab": {
          "base_uri": "https://localhost:8080/",
          "height": 38
        },
        "id": "mwsVJVG8Vnxv",
        "outputId": "53003c21-a1bf-4f3c-8d23-9109ccb4fa41"
      },
      "execution_count": 26,
      "outputs": [
        {
          "output_type": "execute_result",
          "data": {
            "text/plain": [
              "'/content'"
            ],
            "application/vnd.google.colaboratory.intrinsic+json": {
              "type": "string"
            }
          },
          "metadata": {},
          "execution_count": 26
        }
      ]
    },
    {
      "cell_type": "code",
      "source": [
        "!unzip image/f75aa01.zip"
      ],
      "metadata": {
        "colab": {
          "base_uri": "https://localhost:8080/"
        },
        "id": "j4IDyQTJF5UW",
        "outputId": "476d72d0-fdd5-421d-e813-f41f4f71ddfd"
      },
      "execution_count": 30,
      "outputs": [
        {
          "output_type": "stream",
          "name": "stdout",
          "text": [
            "Archive:  image/f75aa01.zip\n",
            "   creating: PineTools.com_files/\n",
            " extracting: PineTools.com_files/row-1-column-1.jpg  \n",
            " extracting: PineTools.com_files/row-1-column-2.jpg  \n",
            " extracting: PineTools.com_files/row-1-column-3.jpg  \n",
            " extracting: PineTools.com_files/row-1-column-4.jpg  \n",
            " extracting: PineTools.com_files/row-2-column-1.jpg  \n",
            " extracting: PineTools.com_files/row-2-column-2.jpg  \n",
            " extracting: PineTools.com_files/row-2-column-3.jpg  \n",
            " extracting: PineTools.com_files/row-2-column-4.jpg  \n",
            " extracting: PineTools.com_files/row-3-column-1.jpg  \n",
            " extracting: PineTools.com_files/row-3-column-2.jpg  \n",
            " extracting: PineTools.com_files/row-3-column-3.jpg  \n",
            " extracting: PineTools.com_files/row-3-column-4.jpg  \n",
            " extracting: PineTools.com_files/row-4-column-1.jpg  \n",
            " extracting: PineTools.com_files/row-4-column-2.jpg  \n",
            " extracting: PineTools.com_files/row-4-column-3.jpg  \n",
            " extracting: PineTools.com_files/row-4-column-4.jpg  \n",
            " extracting: PineTools.com_files/row-5-column-1.jpg  \n",
            " extracting: PineTools.com_files/row-5-column-2.jpg  \n",
            " extracting: PineTools.com_files/row-5-column-3.jpg  \n",
            " extracting: PineTools.com_files/row-5-column-4.jpg  \n"
          ]
        }
      ]
    },
    {
      "cell_type": "code",
      "source": [
        "!python yolov5/detect.py --weights best.pt  --img 640 --conf 0.25 --iou 0.20 --source f75aa01 --hide-labels --line-thickness 1"
      ],
      "metadata": {
        "colab": {
          "base_uri": "https://localhost:8080/"
        },
        "id": "c4N-S3WqUDjf",
        "outputId": "8390c1ce-fe34-42ef-fa0f-72d6ecf7e361"
      },
      "execution_count": 32,
      "outputs": [
        {
          "output_type": "stream",
          "name": "stdout",
          "text": [
            "\u001b[34m\u001b[1mdetect: \u001b[0mweights=['best.pt'], source=f75aa01, data=yolov5/data/coco128.yaml, imgsz=[640, 640], conf_thres=0.25, iou_thres=0.2, max_det=1000, device=, view_img=False, save_txt=False, save_conf=False, save_crop=False, nosave=False, classes=None, agnostic_nms=False, augment=False, visualize=False, update=False, project=yolov5/runs/detect, name=exp, exist_ok=False, line_thickness=1, hide_labels=True, hide_conf=False, half=False, dnn=False\n",
            "YOLOv5 🚀 v6.1-105-gd257c75 torch 1.10.0+cu111 CPU\n",
            "\n",
            "Fusing layers... \n",
            "Model summary: 213 layers, 7012822 parameters, 0 gradients, 15.8 GFLOPs\n",
            "image 1/20 /content/f75aa01/row-1-column-1.jpg: 416x640 Done. (0.243s)\n",
            "image 2/20 /content/f75aa01/row-1-column-2.jpg: 416x640 Done. (0.241s)\n",
            "image 3/20 /content/f75aa01/row-1-column-3.jpg: 416x640 Done. (0.230s)\n",
            "image 4/20 /content/f75aa01/row-1-column-4.jpg: 416x640 33 Precipitates, Done. (0.247s)\n",
            "image 5/20 /content/f75aa01/row-2-column-1.jpg: 416x640 Done. (0.228s)\n",
            "image 6/20 /content/f75aa01/row-2-column-2.jpg: 416x640 Done. (0.230s)\n",
            "image 7/20 /content/f75aa01/row-2-column-3.jpg: 416x640 21 Precipitates, Done. (0.229s)\n",
            "image 8/20 /content/f75aa01/row-2-column-4.jpg: 416x640 132 Precipitates, Done. (0.240s)\n",
            "image 9/20 /content/f75aa01/row-3-column-1.jpg: 416x640 Done. (0.226s)\n",
            "image 10/20 /content/f75aa01/row-3-column-2.jpg: 416x640 Done. (0.233s)\n",
            "image 11/20 /content/f75aa01/row-3-column-3.jpg: 416x640 114 Precipitates, Done. (0.233s)\n",
            "image 12/20 /content/f75aa01/row-3-column-4.jpg: 416x640 145 Precipitates, Done. (0.233s)\n",
            "image 13/20 /content/f75aa01/row-4-column-1.jpg: 416x640 Done. (0.226s)\n",
            "image 14/20 /content/f75aa01/row-4-column-2.jpg: 416x640 40 Precipitates, Done. (0.227s)\n",
            "image 15/20 /content/f75aa01/row-4-column-3.jpg: 416x640 133 Precipitates, Done. (0.231s)\n",
            "image 16/20 /content/f75aa01/row-4-column-4.jpg: 416x640 150 Precipitates, Done. (0.234s)\n",
            "image 17/20 /content/f75aa01/row-5-column-1.jpg: 416x640 Done. (0.228s)\n",
            "image 18/20 /content/f75aa01/row-5-column-2.jpg: 416x640 110 Precipitates, Done. (0.228s)\n",
            "image 19/20 /content/f75aa01/row-5-column-3.jpg: 416x640 115 Precipitates, Done. (0.225s)\n",
            "image 20/20 /content/f75aa01/row-5-column-4.jpg: 416x640 139 Precipitates, Done. (0.233s)\n",
            "Speed: 1.5ms pre-process, 232.2ms inference, 1.3ms NMS per image at shape (1, 3, 640, 640)\n",
            "Results saved to \u001b[1myolov5/runs/detect/exp24\u001b[0m\n"
          ]
        }
      ]
    },
    {
      "cell_type": "code",
      "source": [
        "!zip -r /yolov5/runs/detect/exp24.zip . -i /yolov5/runs/detect/exp24"
      ],
      "metadata": {
        "colab": {
          "base_uri": "https://localhost:8080/"
        },
        "id": "sDAUgX7gCV9u",
        "outputId": "e574f0a0-7662-4919-e34e-69bf7cd0ec88"
      },
      "execution_count": 36,
      "outputs": [
        {
          "output_type": "stream",
          "name": "stdout",
          "text": [
            "zip I/O error: No such file or directory\n",
            "zip error: Could not create output file (/yolov5/runs/detect/exp24.zip)\n"
          ]
        }
      ]
    },
    {
      "cell_type": "code",
      "source": [
        "!python yolov5/detect.py --weights best.pt  --img 2016 --conf 0.25 --iou 0.20 --source image/f45aa01.jpg --hide-labels --line-thickness 1"
      ],
      "metadata": {
        "colab": {
          "base_uri": "https://localhost:8080/"
        },
        "id": "53NB7_K7NtTx",
        "outputId": "2650f387-6ec3-4970-b9af-a651d91c74d3"
      },
      "execution_count": 38,
      "outputs": [
        {
          "output_type": "stream",
          "name": "stdout",
          "text": [
            "\u001b[34m\u001b[1mdetect: \u001b[0mweights=['best.pt'], source=image/f45aa01.jpg, data=yolov5/data/coco128.yaml, imgsz=[2016, 2016], conf_thres=0.25, iou_thres=0.2, max_det=1000, device=, view_img=False, save_txt=False, save_conf=False, save_crop=False, nosave=False, classes=None, agnostic_nms=False, augment=False, visualize=False, update=False, project=yolov5/runs/detect, name=exp, exist_ok=False, line_thickness=1, hide_labels=True, hide_conf=False, half=False, dnn=False\n",
            "YOLOv5 🚀 v6.1-105-gd257c75 torch 1.10.0+cu111 CPU\n",
            "\n",
            "Fusing layers... \n",
            "Model summary: 213 layers, 7012822 parameters, 0 gradients, 15.8 GFLOPs\n",
            "image 1/1 /content/image/f45aa01.jpg: 1632x2016 289 Precipitates, Done. (3.112s)\n",
            "Speed: 34.6ms pre-process, 3112.5ms inference, 12.9ms NMS per image at shape (1, 3, 2016, 2016)\n",
            "Results saved to \u001b[1myolov5/runs/detect/exp26\u001b[0m\n"
          ]
        }
      ]
    }
  ]
}