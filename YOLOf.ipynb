{
  "nbformat": 4,
  "nbformat_minor": 0,
  "metadata": {
    "colab": {
      "name": "Untitled3.ipynb",
      "provenance": [],
      "authorship_tag": "ABX9TyN7r4iFCT8Bv7tNzbqkhAse",
      "include_colab_link": true
    },
    "kernelspec": {
      "name": "python3",
      "display_name": "Python 3"
    },
    "language_info": {
      "name": "python"
    }
  },
  "cells": [
    {
      "cell_type": "markdown",
      "metadata": {
        "id": "view-in-github",
        "colab_type": "text"
      },
      "source": [
        "<a href=\"https://colab.research.google.com/github/dmanojprabakar/Airline_ticket_price/blob/master/YOLOf.ipynb\" target=\"_parent\"><img src=\"https://colab.research.google.com/assets/colab-badge.svg\" alt=\"Open In Colab\"/></a>"
      ]
    },
    {
      "cell_type": "code",
      "execution_count": 1,
      "metadata": {
        "colab": {
          "base_uri": "https://localhost:8080/"
        },
        "id": "vVbKUL1aToQ1",
        "outputId": "4a1c29ea-5f8d-413c-c52e-0b6fe8e7f619"
      },
      "outputs": [
        {
          "output_type": "stream",
          "name": "stderr",
          "text": [
            "YOLOv5 🚀 v6.1-174-gc4cb7c6 torch 1.11.0+cu113 CPU\n"
          ]
        },
        {
          "output_type": "stream",
          "name": "stdout",
          "text": [
            "Setup complete ✅ (2 CPUs, 12.7 GB RAM, 37.8/107.7 GB disk)\n"
          ]
        }
      ],
      "source": [
        "!git clone https://github.com/ultralytics/yolov5  # clone\n",
        "%cd yolov5\n",
        "%pip install -qr requirements.txt  # install\n",
        "\n",
        "import torch\n",
        "from yolov5 import utils\n",
        "display = utils.notebook_init()  # checks"
      ]
    },
    {
      "cell_type": "code",
      "source": [
        "pwd"
      ],
      "metadata": {
        "colab": {
          "base_uri": "https://localhost:8080/",
          "height": 38
        },
        "id": "mwsVJVG8Vnxv",
        "outputId": "5947e4f4-ee2e-44d8-a87e-5146904c0528"
      },
      "execution_count": 3,
      "outputs": [
        {
          "output_type": "execute_result",
          "data": {
            "text/plain": [
              "'/content/yolov5'"
            ],
            "application/vnd.google.colaboratory.intrinsic+json": {
              "type": "string"
            }
          },
          "metadata": {},
          "execution_count": 3
        }
      ]
    },
    {
      "cell_type": "code",
      "source": [
        "cd .."
      ],
      "metadata": {
        "id": "02KogD34mpb4",
        "outputId": "d0336d27-33cf-41f8-84e3-b153573e75c9",
        "colab": {
          "base_uri": "https://localhost:8080/"
        }
      },
      "execution_count": 4,
      "outputs": [
        {
          "output_type": "stream",
          "name": "stdout",
          "text": [
            "/content\n"
          ]
        }
      ]
    },
    {
      "cell_type": "code",
      "source": [
        "!unzip f_aa.zip"
      ],
      "metadata": {
        "colab": {
          "base_uri": "https://localhost:8080/"
        },
        "id": "j4IDyQTJF5UW",
        "outputId": "330d1c43-acbb-4890-f2a3-ee6e87192b2b"
      },
      "execution_count": 5,
      "outputs": [
        {
          "output_type": "stream",
          "name": "stdout",
          "text": [
            "Archive:  f_aa.zip\n",
            "  inflating: f_aa/f19aa01.jpg        \n",
            "  inflating: f_aa/f19aa02.jpg        \n",
            "  inflating: f_aa/f19aa03.jpg        \n",
            "  inflating: f_aa/f19aa04.jpg        \n",
            "  inflating: f_aa/f19aa05.jpg        \n",
            "  inflating: f_aa/f19aa06.jpg        \n",
            "  inflating: f_aa/f19aa07.jpg        \n",
            "  inflating: f_aa/f19aa08.jpg        \n",
            "  inflating: f_aa/f19aa09.jpg        \n",
            "  inflating: f_aa/f19aa10.jpg        \n",
            "  inflating: f_aa/f19aa11.jpg        \n",
            "  inflating: f_aa/f19aa12.jpg        \n",
            "  inflating: f_aa/f19aa13.jpg        \n",
            "  inflating: f_aa/f19aa14.jpg        \n",
            "  inflating: f_aa/f19aa15.jpg        \n",
            "  inflating: f_aa/f19aa16.jpg        \n",
            "  inflating: f_aa/f19aa17.jpg        \n",
            "  inflating: f_aa/f19aa18.jpg        \n",
            "  inflating: f_aa/f19aa19.jpg        \n",
            "  inflating: f_aa/f19aa20.jpg        \n",
            "  inflating: f_aa/f19aa21.jpg        \n",
            "  inflating: f_aa/f19aa22.jpg        \n",
            "  inflating: f_aa/f29aa01.jpg        \n",
            "  inflating: f_aa/f29aa02.jpg        \n",
            "  inflating: f_aa/f29aa03.jpg        \n",
            "  inflating: f_aa/f29aa04.jpg        \n",
            "  inflating: f_aa/f29aa05.jpg        \n",
            "  inflating: f_aa/f29aa06.jpg        \n",
            "  inflating: f_aa/f29aa07.jpg        \n",
            "  inflating: f_aa/f29aa08.jpg        \n",
            "  inflating: f_aa/f29aa09.jpg        \n",
            "  inflating: f_aa/f29aa10.jpg        \n",
            "  inflating: f_aa/f29aa11.jpg        \n",
            "  inflating: f_aa/f29aa12.jpg        \n",
            "  inflating: f_aa/f29aa13.jpg        \n",
            "  inflating: f_aa/f29aa14.jpg        \n",
            "  inflating: f_aa/f29aa15.jpg        \n",
            "  inflating: f_aa/f29aa16.jpg        \n",
            "  inflating: f_aa/f29aa17.jpg        \n",
            "  inflating: f_aa/f29aa18.jpg        \n",
            "  inflating: f_aa/f29aa19.jpg        \n",
            "  inflating: f_aa/f29aa20.jpg        \n",
            "  inflating: f_aa/f29aa21.jpg        \n",
            "  inflating: f_aa/f29aa22.jpg        \n",
            "  inflating: f_aa/f39aa01.jpg        \n",
            "  inflating: f_aa/f39aa02.jpg        \n",
            "  inflating: f_aa/f39aa03.jpg        \n",
            "  inflating: f_aa/f39aa04.jpg        \n",
            "  inflating: f_aa/f39aa05.jpg        \n",
            "  inflating: f_aa/f39aa06.jpg        \n",
            "  inflating: f_aa/f39aa07.jpg        \n",
            "  inflating: f_aa/f39aa08.jpg        \n",
            "  inflating: f_aa/f39aa09.jpg        \n",
            "  inflating: f_aa/f39aa10.jpg        \n",
            "  inflating: f_aa/f39aa11.jpg        \n",
            "  inflating: f_aa/f39aa12.jpg        \n",
            "  inflating: f_aa/f39aa13.jpg        \n",
            "  inflating: f_aa/f39aa14.jpg        \n",
            "  inflating: f_aa/f39aa15.jpg        \n",
            "  inflating: f_aa/f39aa16.jpg        \n",
            "  inflating: f_aa/f39aa17.jpg        \n",
            "  inflating: f_aa/f39aa18.jpg        \n",
            "  inflating: f_aa/f39aa19.jpg        \n",
            "  inflating: f_aa/f39aa20.jpg        \n",
            "  inflating: f_aa/f39aa21.jpg        \n",
            "  inflating: f_aa/f39aa22.jpg        \n"
          ]
        }
      ]
    },
    {
      "cell_type": "code",
      "source": [
        "!python yolov5/detect.py --weights best.pt  --img 1280 --conf 0.25 --iou 0.20 --source f_aa --hide-labels --line-thickness 1"
      ],
      "metadata": {
        "colab": {
          "base_uri": "https://localhost:8080/"
        },
        "id": "c4N-S3WqUDjf",
        "outputId": "b9af9cc9-8344-48d2-b7c7-249532122304"
      },
      "execution_count": null,
      "outputs": [
        {
          "output_type": "stream",
          "name": "stdout",
          "text": [
            "\u001b[34m\u001b[1mdetect: \u001b[0mweights=['best.pt'], source=f_aa, data=yolov5/data/coco128.yaml, imgsz=[1280, 1280], conf_thres=0.25, iou_thres=0.2, max_det=1000, device=, view_img=False, save_txt=False, save_conf=False, save_crop=False, nosave=False, classes=None, agnostic_nms=False, augment=False, visualize=False, update=False, project=yolov5/runs/detect, name=exp, exist_ok=False, line_thickness=1, hide_labels=True, hide_conf=False, half=False, dnn=False\n",
            "YOLOv5 🚀 v6.1-174-gc4cb7c6 torch 1.11.0+cu113 CPU\n",
            "\n",
            "Fusing layers... \n",
            "Model summary: 213 layers, 7012822 parameters, 0 gradients\n",
            "image 1/66 /content/f_aa/f19aa01.jpg: 1024x1280 123 Precipitates, \n",
            "123Done. (1.341s)\n",
            "image 2/66 /content/f_aa/f19aa02.jpg: 1024x1280 243 Precipitates, \n",
            "243Done. (1.261s)\n",
            "image 3/66 /content/f_aa/f19aa03.jpg: 1024x1280 275 Precipitates, \n",
            "275Done. (1.244s)\n",
            "image 4/66 /content/f_aa/f19aa04.jpg: 1024x1280 240 Precipitates, \n",
            "240Done. (1.231s)\n",
            "image 5/66 /content/f_aa/f19aa05.jpg: 1024x1280 134 Precipitates, \n",
            "134Done. (1.232s)\n",
            "image 6/66 /content/f_aa/f19aa06.jpg: 1024x1280 187 Precipitates, \n",
            "187Done. (1.259s)\n",
            "image 7/66 /content/f_aa/f19aa07.jpg: 1024x1280 274 Precipitates, \n",
            "274Done. (1.243s)\n",
            "image 8/66 /content/f_aa/f19aa08.jpg: 1024x1280 270 Precipitates, \n",
            "270Done. (1.227s)\n",
            "image 9/66 /content/f_aa/f19aa09.jpg: 1024x1280 269 Precipitates, \n",
            "269Done. (1.237s)\n",
            "image 10/66 /content/f_aa/f19aa10.jpg: 1024x1280 291 Precipitates, \n",
            "291Done. (1.229s)\n",
            "image 11/66 /content/f_aa/f19aa11.jpg: 1024x1280 205 Precipitates, \n",
            "205Done. (1.227s)\n",
            "image 12/66 /content/f_aa/f19aa12.jpg: 1024x1280 233 Precipitates, \n",
            "233Done. (1.235s)\n",
            "image 13/66 /content/f_aa/f19aa13.jpg: 1024x1280 292 Precipitates, \n",
            "292Done. (1.257s)\n",
            "image 14/66 /content/f_aa/f19aa14.jpg: 1024x1280 270 Precipitates, \n",
            "270Done. (1.243s)\n",
            "image 15/66 /content/f_aa/f19aa15.jpg: 1024x1280 263 Precipitates, \n",
            "263Done. (1.234s)\n",
            "image 16/66 /content/f_aa/f19aa16.jpg: 1024x1280 263 Precipitates, \n",
            "263Done. (1.219s)\n",
            "image 17/66 /content/f_aa/f19aa17.jpg: 1024x1280 130 Precipitates, \n",
            "130Done. (1.232s)\n",
            "image 18/66 /content/f_aa/f19aa18.jpg: 1024x1280 53 Precipitates, \n",
            "53Done. (1.220s)\n",
            "image 19/66 /content/f_aa/f19aa19.jpg: 1024x1280 179 Precipitates, \n",
            "179Done. (1.228s)\n",
            "image 20/66 /content/f_aa/f19aa20.jpg: 1024x1280 236 Precipitates, \n",
            "236Done. (1.223s)\n",
            "image 21/66 /content/f_aa/f19aa21.jpg: 1024x1280 241 Precipitates, \n",
            "241Done. (1.248s)\n",
            "image 22/66 /content/f_aa/f19aa22.jpg: 1024x1280 139 Precipitates, \n",
            "139Done. (1.239s)\n",
            "image 23/66 /content/f_aa/f29aa01.jpg: 1024x1280 226 Precipitates, \n",
            "226Done. (1.229s)\n",
            "image 24/66 /content/f_aa/f29aa02.jpg: 1024x1280 433 Precipitates, \n",
            "433Done. (1.222s)\n",
            "image 25/66 /content/f_aa/f29aa03.jpg: 1024x1280 470 Precipitates, \n",
            "470Done. (1.229s)\n",
            "image 26/66 /content/f_aa/f29aa04.jpg: 1024x1280 398 Precipitates, \n",
            "398Done. (1.243s)\n",
            "image 27/66 /content/f_aa/f29aa05.jpg: 1024x1280 184 Precipitates, \n",
            "184Done. (1.229s)\n",
            "image 28/66 /content/f_aa/f29aa06.jpg: 1024x1280 370 Precipitates, \n",
            "370Done. (1.242s)\n",
            "image 29/66 /content/f_aa/f29aa07.jpg: 1024x1280 480 Precipitates, \n",
            "480Done. (1.233s)\n",
            "image 30/66 /content/f_aa/f29aa08.jpg: 1024x1280 477 Precipitates, \n",
            "477Done. (1.232s)\n",
            "image 31/66 /content/f_aa/f29aa09.jpg: 1024x1280 478 Precipitates, \n",
            "478Done. (1.227s)\n"
          ]
        }
      ]
    },
    {
      "cell_type": "code",
      "source": [
        "!zip -r /yolov5/runs/detect/exp24.zip . -i /yolov5/runs/detect/exp24"
      ],
      "metadata": {
        "colab": {
          "base_uri": "https://localhost:8080/"
        },
        "id": "sDAUgX7gCV9u",
        "outputId": "e574f0a0-7662-4919-e34e-69bf7cd0ec88"
      },
      "execution_count": null,
      "outputs": [
        {
          "output_type": "stream",
          "name": "stdout",
          "text": [
            "zip I/O error: No such file or directory\n",
            "zip error: Could not create output file (/yolov5/runs/detect/exp24.zip)\n"
          ]
        }
      ]
    },
    {
      "cell_type": "code",
      "source": [
        "!python yolov5/detect.py --weights best.pt  --img 2016 --conf 0.25 --iou 0.20 --source image/f45aa01.jpg --hide-labels --line-thickness 1"
      ],
      "metadata": {
        "colab": {
          "base_uri": "https://localhost:8080/"
        },
        "id": "53NB7_K7NtTx",
        "outputId": "2650f387-6ec3-4970-b9af-a651d91c74d3"
      },
      "execution_count": null,
      "outputs": [
        {
          "output_type": "stream",
          "name": "stdout",
          "text": [
            "\u001b[34m\u001b[1mdetect: \u001b[0mweights=['best.pt'], source=image/f45aa01.jpg, data=yolov5/data/coco128.yaml, imgsz=[2016, 2016], conf_thres=0.25, iou_thres=0.2, max_det=1000, device=, view_img=False, save_txt=False, save_conf=False, save_crop=False, nosave=False, classes=None, agnostic_nms=False, augment=False, visualize=False, update=False, project=yolov5/runs/detect, name=exp, exist_ok=False, line_thickness=1, hide_labels=True, hide_conf=False, half=False, dnn=False\n",
            "YOLOv5 🚀 v6.1-105-gd257c75 torch 1.10.0+cu111 CPU\n",
            "\n",
            "Fusing layers... \n",
            "Model summary: 213 layers, 7012822 parameters, 0 gradients, 15.8 GFLOPs\n",
            "image 1/1 /content/image/f45aa01.jpg: 1632x2016 289 Precipitates, Done. (3.112s)\n",
            "Speed: 34.6ms pre-process, 3112.5ms inference, 12.9ms NMS per image at shape (1, 3, 2016, 2016)\n",
            "Results saved to \u001b[1myolov5/runs/detect/exp26\u001b[0m\n"
          ]
        }
      ]
    }
  ]
}